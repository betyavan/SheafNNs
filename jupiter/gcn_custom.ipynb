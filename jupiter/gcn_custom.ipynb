{
 "cells": [
  {
   "cell_type": "code",
   "execution_count": 1,
   "id": "9432d13c-f150-439a-b68b-02312405e83a",
   "metadata": {
    "tags": []
   },
   "outputs": [],
   "source": [
    "# !pip install tensorboard\n",
    "# !pip install pytorch-lightning"
   ]
  },
  {
   "cell_type": "code",
   "execution_count": 2,
   "id": "80c057e9-38c1-4310-a50c-13c1e2e3bfb8",
   "metadata": {
    "tags": []
   },
   "outputs": [],
   "source": [
    "import time\n",
    "import argparse\n",
    "import numpy as np\n",
    "\n",
    "import torch\n",
    "import torch.nn.functional as F\n",
    "import torch.optim as optim\n",
    "\n",
    "from pygcn.pygcn.utils import load_data, accuracy\n",
    "from pygcn.pygcn.models import GCN\n",
    "\n",
    "from torch.utils.tensorboard import SummaryWriter\n",
    "\n",
    "import pytorch_lightning as pl\n",
    "from pytorch_lightning.loggers import TensorBoardLogger"
   ]
  },
  {
   "cell_type": "code",
   "execution_count": 3,
   "id": "6c5d6513-a5d7-4c63-8b04-75115f7acad4",
   "metadata": {
    "tags": []
   },
   "outputs": [],
   "source": [
    "seed = 42\n",
    "\n",
    "np.random.seed(seed)\n",
    "torch.manual_seed(seed)\n",
    "torch.mps.manual_seed(seed)"
   ]
  },
  {
   "cell_type": "code",
   "execution_count": 4,
   "id": "af00924c-2b28-4ca1-81a0-f99f395bb724",
   "metadata": {
    "tags": []
   },
   "outputs": [
    {
     "name": "stdout",
     "output_type": "stream",
     "text": [
      "Loading cora dataset...\n"
     ]
    },
    {
     "name": "stderr",
     "output_type": "stream",
     "text": [
      "/Users/i.betev/Desktop/HSE/SheafNN/jupiter/pygcn/pygcn/utils.py:80: UserWarning: torch.sparse.SparseTensor(indices, values, shape, *, device=) is deprecated.  Please use torch.sparse_coo_tensor(indices, values, shape, dtype=, device=). (Triggered internally at /Users/runner/work/pytorch/pytorch/pytorch/torch/csrc/utils/tensor_new.cpp:607.)\n",
      "  return torch.sparse.FloatTensor(indices, values, shape)\n"
     ]
    }
   ],
   "source": [
    "class CORA_Dataset(torch.utils.data.Dataset):\n",
    "    def __init__(self, adj, features, labels, idx_train, idx_val, idx_test):\n",
    "        super(CORA_Dataset).__init__()\n",
    "        self.adj = adj\n",
    "        self.features = features\n",
    "        self.labels = labels\n",
    "        self.idx_train = idx_train\n",
    "        self.idx_val = idx_val\n",
    "        self.idx_test = idx_test\n",
    "        \n",
    "    def __len__(self):\n",
    "        return 1\n",
    "    \n",
    "    def __getitem__(self, idx):\n",
    "        return self.adj, self.features, self.labels, self.idx_train, self.idx_val, self.idx_test\n",
    "    \n",
    "dataset = CORA_Dataset(*load_data('pygcn/data/cora/'))\n",
    "dataloader = torch.utils.data.DataLoader(dataset, batch_size=1, shuffle=True)"
   ]
  },
  {
   "cell_type": "code",
   "execution_count": 5,
   "id": "2444dd60-997e-41d6-bc51-1d727c954069",
   "metadata": {
    "tags": []
   },
   "outputs": [],
   "source": [
    "nfeat = dataset.features.shape[1]\n",
    "hidden = 16\n",
    "nclass = dataset.labels.max().item() + 1\n",
    "dropout = 0.5\n",
    "\n",
    "weight_decay = 5e-4"
   ]
  },
  {
   "cell_type": "code",
   "execution_count": 6,
   "id": "79a1bcef-8f52-41dc-94a9-36e32c9b9446",
   "metadata": {
    "tags": []
   },
   "outputs": [],
   "source": [
    "class GCN_module(pl.LightningModule):\n",
    "    def __init__(self, learning_rate=0.01):\n",
    "        super(GCN_module, self).__init__()\n",
    "        self.model = GCN(nfeat=nfeat,\n",
    "                         nhid=hidden,\n",
    "                         nclass=nclass,\n",
    "                         dropout=dropout)\n",
    "        \n",
    "        self.learning_rate = learning_rate\n",
    "        self.loss_fn = F.nll_loss\n",
    "        \n",
    "    def configure_optimizers(self):\n",
    "        optim = torch.optim.Adam(self.parameters(), lr=self.learning_rate,\n",
    "                           weight_decay=weight_decay)\n",
    "        return optim\n",
    "    \n",
    "    def forward(self, features, adj):\n",
    "        return self.model(features, adj)\n",
    "    \n",
    "    \n",
    "    def training_step(self, train_batch, batch_idx):\n",
    "        adj, features, labels, idx_train, idx_val, idx_test = train_batch\n",
    "        output = self.model(features[0], adj[0])\n",
    "        \n",
    "        labels = labels[0]\n",
    "        idx_train, idx_val, idx_test = idx_train[0], idx_val[0], idx_test[0]\n",
    "        \n",
    "        loss_train = self.loss_fn(output[idx_train], labels[idx_train])\n",
    "        acc_train = accuracy(output[idx_train], labels[idx_train])\n",
    "        \n",
    "        loss_val = self.loss_fn(output[idx_val], labels[idx_val])\n",
    "        acc_val = accuracy(output[idx_val], labels[idx_val])\n",
    "        \n",
    "        self.log(\"loss_train\", loss_train, prog_bar=True)\n",
    "        self.log(\"acc_train\", acc_train, prog_bar=True)\n",
    "        \n",
    "        self.log(\"loss_val\", loss_val, prog_bar=True)\n",
    "        self.log(\"acc_val\", acc_val, prog_bar=True)\n",
    "        \n",
    "        return loss_train\n",
    "        \n",
    "    def validation_step(self, val_batch, batch_idx):\n",
    "        pass\n",
    "        "
   ]
  },
  {
   "cell_type": "code",
   "execution_count": 7,
   "id": "b1320acc-a71f-4b95-b3ab-5a7ec437c390",
   "metadata": {
    "tags": []
   },
   "outputs": [],
   "source": [
    "# !rm -r lightning_logs"
   ]
  },
  {
   "cell_type": "code",
   "execution_count": 8,
   "id": "239a3fd7-b191-483b-a4a7-e5beef7f8865",
   "metadata": {
    "tags": []
   },
   "outputs": [
    {
     "name": "stderr",
     "output_type": "stream",
     "text": [
      "GPU available: True (mps), used: False\n",
      "TPU available: False, using: 0 TPU cores\n",
      "IPU available: False, using: 0 IPUs\n",
      "HPU available: False, using: 0 HPUs\n",
      "/Users/i.betev/anaconda3/lib/python3.11/site-packages/pytorch_lightning/trainer/setup.py:187: GPU available but not used. You can set it by doing `Trainer(accelerator='gpu')`.\n"
     ]
    }
   ],
   "source": [
    "# checkpoint_callback = pl.callbacks.ModelCheckpoint(monitor=\"acc_val\", mode=\"max\")\n",
    "\n",
    "device = \"cpu\"\n",
    "trainer = pl.Trainer(max_epochs=400, accelerator=device)#, callbacks=checkpoint_callback, )"
   ]
  },
  {
   "cell_type": "code",
   "execution_count": 9,
   "id": "99679f6e-3b05-4499-9f2f-d7a2516d888b",
   "metadata": {
    "tags": []
   },
   "outputs": [
    {
     "name": "stderr",
     "output_type": "stream",
     "text": [
      "\n",
      "  | Name  | Type | Params\n",
      "-------------------------------\n",
      "0 | model | GCN  | 23.1 K\n",
      "-------------------------------\n",
      "23.1 K    Trainable params\n",
      "0         Non-trainable params\n",
      "23.1 K    Total params\n",
      "0.092     Total estimated model params size (MB)\n"
     ]
    },
    {
     "data": {
      "application/vnd.jupyter.widget-view+json": {
       "model_id": "",
       "version_major": 2,
       "version_minor": 0
      },
      "text/plain": [
       "Sanity Checking: |          | 0/? [00:00<?, ?it/s]"
      ]
     },
     "metadata": {},
     "output_type": "display_data"
    },
    {
     "name": "stderr",
     "output_type": "stream",
     "text": [
      "/Users/i.betev/anaconda3/lib/python3.11/site-packages/pytorch_lightning/trainer/connectors/data_connector.py:492: Your `val_dataloader`'s sampler has shuffling enabled, it is strongly recommended that you turn shuffling off for val/test dataloaders.\n",
      "/Users/i.betev/anaconda3/lib/python3.11/site-packages/pytorch_lightning/trainer/connectors/data_connector.py:441: The 'val_dataloader' does not have many workers which may be a bottleneck. Consider increasing the value of the `num_workers` argument` to `num_workers=9` in the `DataLoader` to improve performance.\n",
      "/Users/i.betev/anaconda3/lib/python3.11/site-packages/pytorch_lightning/trainer/connectors/data_connector.py:441: The 'train_dataloader' does not have many workers which may be a bottleneck. Consider increasing the value of the `num_workers` argument` to `num_workers=9` in the `DataLoader` to improve performance.\n",
      "/Users/i.betev/anaconda3/lib/python3.11/site-packages/pytorch_lightning/loops/fit_loop.py:293: The number of training batches (1) is smaller than the logging interval Trainer(log_every_n_steps=50). Set a lower value for log_every_n_steps if you want to see logs for the training epoch.\n"
     ]
    },
    {
     "data": {
      "application/vnd.jupyter.widget-view+json": {
       "model_id": "f115b88d23604e5f802cb540d5214d0a",
       "version_major": 2,
       "version_minor": 0
      },
      "text/plain": [
       "Training: |          | 0/? [00:00<?, ?it/s]"
      ]
     },
     "metadata": {},
     "output_type": "display_data"
    },
    {
     "data": {
      "application/vnd.jupyter.widget-view+json": {
       "model_id": "",
       "version_major": 2,
       "version_minor": 0
      },
      "text/plain": [
       "Validation: |          | 0/? [00:00<?, ?it/s]"
      ]
     },
     "metadata": {},
     "output_type": "display_data"
    },
    {
     "data": {
      "application/vnd.jupyter.widget-view+json": {
       "model_id": "",
       "version_major": 2,
       "version_minor": 0
      },
      "text/plain": [
       "Validation: |          | 0/? [00:00<?, ?it/s]"
      ]
     },
     "metadata": {},
     "output_type": "display_data"
    },
    {
     "data": {
      "application/vnd.jupyter.widget-view+json": {
       "model_id": "",
       "version_major": 2,
       "version_minor": 0
      },
      "text/plain": [
       "Validation: |          | 0/? [00:00<?, ?it/s]"
      ]
     },
     "metadata": {},
     "output_type": "display_data"
    },
    {
     "data": {
      "application/vnd.jupyter.widget-view+json": {
       "model_id": "",
       "version_major": 2,
       "version_minor": 0
      },
      "text/plain": [
       "Validation: |          | 0/? [00:00<?, ?it/s]"
      ]
     },
     "metadata": {},
     "output_type": "display_data"
    },
    {
     "data": {
      "application/vnd.jupyter.widget-view+json": {
       "model_id": "",
       "version_major": 2,
       "version_minor": 0
      },
      "text/plain": [
       "Validation: |          | 0/? [00:00<?, ?it/s]"
      ]
     },
     "metadata": {},
     "output_type": "display_data"
    },
    {
     "data": {
      "application/vnd.jupyter.widget-view+json": {
       "model_id": "",
       "version_major": 2,
       "version_minor": 0
      },
      "text/plain": [
       "Validation: |          | 0/? [00:00<?, ?it/s]"
      ]
     },
     "metadata": {},
     "output_type": "display_data"
    },
    {
     "data": {
      "application/vnd.jupyter.widget-view+json": {
       "model_id": "",
       "version_major": 2,
       "version_minor": 0
      },
      "text/plain": [
       "Validation: |          | 0/? [00:00<?, ?it/s]"
      ]
     },
     "metadata": {},
     "output_type": "display_data"
    },
    {
     "data": {
      "application/vnd.jupyter.widget-view+json": {
       "model_id": "",
       "version_major": 2,
       "version_minor": 0
      },
      "text/plain": [
       "Validation: |          | 0/? [00:00<?, ?it/s]"
      ]
     },
     "metadata": {},
     "output_type": "display_data"
    },
    {
     "data": {
      "application/vnd.jupyter.widget-view+json": {
       "model_id": "",
       "version_major": 2,
       "version_minor": 0
      },
      "text/plain": [
       "Validation: |          | 0/? [00:00<?, ?it/s]"
      ]
     },
     "metadata": {},
     "output_type": "display_data"
    },
    {
     "data": {
      "application/vnd.jupyter.widget-view+json": {
       "model_id": "",
       "version_major": 2,
       "version_minor": 0
      },
      "text/plain": [
       "Validation: |          | 0/? [00:00<?, ?it/s]"
      ]
     },
     "metadata": {},
     "output_type": "display_data"
    },
    {
     "data": {
      "application/vnd.jupyter.widget-view+json": {
       "model_id": "",
       "version_major": 2,
       "version_minor": 0
      },
      "text/plain": [
       "Validation: |          | 0/? [00:00<?, ?it/s]"
      ]
     },
     "metadata": {},
     "output_type": "display_data"
    },
    {
     "data": {
      "application/vnd.jupyter.widget-view+json": {
       "model_id": "",
       "version_major": 2,
       "version_minor": 0
      },
      "text/plain": [
       "Validation: |          | 0/? [00:00<?, ?it/s]"
      ]
     },
     "metadata": {},
     "output_type": "display_data"
    },
    {
     "data": {
      "application/vnd.jupyter.widget-view+json": {
       "model_id": "",
       "version_major": 2,
       "version_minor": 0
      },
      "text/plain": [
       "Validation: |          | 0/? [00:00<?, ?it/s]"
      ]
     },
     "metadata": {},
     "output_type": "display_data"
    },
    {
     "data": {
      "application/vnd.jupyter.widget-view+json": {
       "model_id": "",
       "version_major": 2,
       "version_minor": 0
      },
      "text/plain": [
       "Validation: |          | 0/? [00:00<?, ?it/s]"
      ]
     },
     "metadata": {},
     "output_type": "display_data"
    },
    {
     "data": {
      "application/vnd.jupyter.widget-view+json": {
       "model_id": "",
       "version_major": 2,
       "version_minor": 0
      },
      "text/plain": [
       "Validation: |          | 0/? [00:00<?, ?it/s]"
      ]
     },
     "metadata": {},
     "output_type": "display_data"
    },
    {
     "data": {
      "application/vnd.jupyter.widget-view+json": {
       "model_id": "",
       "version_major": 2,
       "version_minor": 0
      },
      "text/plain": [
       "Validation: |          | 0/? [00:00<?, ?it/s]"
      ]
     },
     "metadata": {},
     "output_type": "display_data"
    },
    {
     "data": {
      "application/vnd.jupyter.widget-view+json": {
       "model_id": "",
       "version_major": 2,
       "version_minor": 0
      },
      "text/plain": [
       "Validation: |          | 0/? [00:00<?, ?it/s]"
      ]
     },
     "metadata": {},
     "output_type": "display_data"
    },
    {
     "data": {
      "application/vnd.jupyter.widget-view+json": {
       "model_id": "",
       "version_major": 2,
       "version_minor": 0
      },
      "text/plain": [
       "Validation: |          | 0/? [00:00<?, ?it/s]"
      ]
     },
     "metadata": {},
     "output_type": "display_data"
    },
    {
     "data": {
      "application/vnd.jupyter.widget-view+json": {
       "model_id": "",
       "version_major": 2,
       "version_minor": 0
      },
      "text/plain": [
       "Validation: |          | 0/? [00:00<?, ?it/s]"
      ]
     },
     "metadata": {},
     "output_type": "display_data"
    },
    {
     "data": {
      "application/vnd.jupyter.widget-view+json": {
       "model_id": "",
       "version_major": 2,
       "version_minor": 0
      },
      "text/plain": [
       "Validation: |          | 0/? [00:00<?, ?it/s]"
      ]
     },
     "metadata": {},
     "output_type": "display_data"
    },
    {
     "data": {
      "application/vnd.jupyter.widget-view+json": {
       "model_id": "",
       "version_major": 2,
       "version_minor": 0
      },
      "text/plain": [
       "Validation: |          | 0/? [00:00<?, ?it/s]"
      ]
     },
     "metadata": {},
     "output_type": "display_data"
    },
    {
     "data": {
      "application/vnd.jupyter.widget-view+json": {
       "model_id": "",
       "version_major": 2,
       "version_minor": 0
      },
      "text/plain": [
       "Validation: |          | 0/? [00:00<?, ?it/s]"
      ]
     },
     "metadata": {},
     "output_type": "display_data"
    },
    {
     "data": {
      "application/vnd.jupyter.widget-view+json": {
       "model_id": "",
       "version_major": 2,
       "version_minor": 0
      },
      "text/plain": [
       "Validation: |          | 0/? [00:00<?, ?it/s]"
      ]
     },
     "metadata": {},
     "output_type": "display_data"
    },
    {
     "data": {
      "application/vnd.jupyter.widget-view+json": {
       "model_id": "",
       "version_major": 2,
       "version_minor": 0
      },
      "text/plain": [
       "Validation: |          | 0/? [00:00<?, ?it/s]"
      ]
     },
     "metadata": {},
     "output_type": "display_data"
    },
    {
     "data": {
      "application/vnd.jupyter.widget-view+json": {
       "model_id": "",
       "version_major": 2,
       "version_minor": 0
      },
      "text/plain": [
       "Validation: |          | 0/? [00:00<?, ?it/s]"
      ]
     },
     "metadata": {},
     "output_type": "display_data"
    },
    {
     "data": {
      "application/vnd.jupyter.widget-view+json": {
       "model_id": "",
       "version_major": 2,
       "version_minor": 0
      },
      "text/plain": [
       "Validation: |          | 0/? [00:00<?, ?it/s]"
      ]
     },
     "metadata": {},
     "output_type": "display_data"
    },
    {
     "data": {
      "application/vnd.jupyter.widget-view+json": {
       "model_id": "",
       "version_major": 2,
       "version_minor": 0
      },
      "text/plain": [
       "Validation: |          | 0/? [00:00<?, ?it/s]"
      ]
     },
     "metadata": {},
     "output_type": "display_data"
    },
    {
     "data": {
      "application/vnd.jupyter.widget-view+json": {
       "model_id": "",
       "version_major": 2,
       "version_minor": 0
      },
      "text/plain": [
       "Validation: |          | 0/? [00:00<?, ?it/s]"
      ]
     },
     "metadata": {},
     "output_type": "display_data"
    },
    {
     "data": {
      "application/vnd.jupyter.widget-view+json": {
       "model_id": "",
       "version_major": 2,
       "version_minor": 0
      },
      "text/plain": [
       "Validation: |          | 0/? [00:00<?, ?it/s]"
      ]
     },
     "metadata": {},
     "output_type": "display_data"
    },
    {
     "data": {
      "application/vnd.jupyter.widget-view+json": {
       "model_id": "",
       "version_major": 2,
       "version_minor": 0
      },
      "text/plain": [
       "Validation: |          | 0/? [00:00<?, ?it/s]"
      ]
     },
     "metadata": {},
     "output_type": "display_data"
    },
    {
     "data": {
      "application/vnd.jupyter.widget-view+json": {
       "model_id": "",
       "version_major": 2,
       "version_minor": 0
      },
      "text/plain": [
       "Validation: |          | 0/? [00:00<?, ?it/s]"
      ]
     },
     "metadata": {},
     "output_type": "display_data"
    },
    {
     "data": {
      "application/vnd.jupyter.widget-view+json": {
       "model_id": "",
       "version_major": 2,
       "version_minor": 0
      },
      "text/plain": [
       "Validation: |          | 0/? [00:00<?, ?it/s]"
      ]
     },
     "metadata": {},
     "output_type": "display_data"
    },
    {
     "data": {
      "application/vnd.jupyter.widget-view+json": {
       "model_id": "",
       "version_major": 2,
       "version_minor": 0
      },
      "text/plain": [
       "Validation: |          | 0/? [00:00<?, ?it/s]"
      ]
     },
     "metadata": {},
     "output_type": "display_data"
    },
    {
     "data": {
      "application/vnd.jupyter.widget-view+json": {
       "model_id": "",
       "version_major": 2,
       "version_minor": 0
      },
      "text/plain": [
       "Validation: |          | 0/? [00:00<?, ?it/s]"
      ]
     },
     "metadata": {},
     "output_type": "display_data"
    },
    {
     "data": {
      "application/vnd.jupyter.widget-view+json": {
       "model_id": "",
       "version_major": 2,
       "version_minor": 0
      },
      "text/plain": [
       "Validation: |          | 0/? [00:00<?, ?it/s]"
      ]
     },
     "metadata": {},
     "output_type": "display_data"
    },
    {
     "data": {
      "application/vnd.jupyter.widget-view+json": {
       "model_id": "",
       "version_major": 2,
       "version_minor": 0
      },
      "text/plain": [
       "Validation: |          | 0/? [00:00<?, ?it/s]"
      ]
     },
     "metadata": {},
     "output_type": "display_data"
    },
    {
     "data": {
      "application/vnd.jupyter.widget-view+json": {
       "model_id": "",
       "version_major": 2,
       "version_minor": 0
      },
      "text/plain": [
       "Validation: |          | 0/? [00:00<?, ?it/s]"
      ]
     },
     "metadata": {},
     "output_type": "display_data"
    },
    {
     "data": {
      "application/vnd.jupyter.widget-view+json": {
       "model_id": "",
       "version_major": 2,
       "version_minor": 0
      },
      "text/plain": [
       "Validation: |          | 0/? [00:00<?, ?it/s]"
      ]
     },
     "metadata": {},
     "output_type": "display_data"
    },
    {
     "data": {
      "application/vnd.jupyter.widget-view+json": {
       "model_id": "",
       "version_major": 2,
       "version_minor": 0
      },
      "text/plain": [
       "Validation: |          | 0/? [00:00<?, ?it/s]"
      ]
     },
     "metadata": {},
     "output_type": "display_data"
    },
    {
     "data": {
      "application/vnd.jupyter.widget-view+json": {
       "model_id": "",
       "version_major": 2,
       "version_minor": 0
      },
      "text/plain": [
       "Validation: |          | 0/? [00:00<?, ?it/s]"
      ]
     },
     "metadata": {},
     "output_type": "display_data"
    },
    {
     "data": {
      "application/vnd.jupyter.widget-view+json": {
       "model_id": "",
       "version_major": 2,
       "version_minor": 0
      },
      "text/plain": [
       "Validation: |          | 0/? [00:00<?, ?it/s]"
      ]
     },
     "metadata": {},
     "output_type": "display_data"
    },
    {
     "data": {
      "application/vnd.jupyter.widget-view+json": {
       "model_id": "",
       "version_major": 2,
       "version_minor": 0
      },
      "text/plain": [
       "Validation: |          | 0/? [00:00<?, ?it/s]"
      ]
     },
     "metadata": {},
     "output_type": "display_data"
    },
    {
     "data": {
      "application/vnd.jupyter.widget-view+json": {
       "model_id": "",
       "version_major": 2,
       "version_minor": 0
      },
      "text/plain": [
       "Validation: |          | 0/? [00:00<?, ?it/s]"
      ]
     },
     "metadata": {},
     "output_type": "display_data"
    },
    {
     "data": {
      "application/vnd.jupyter.widget-view+json": {
       "model_id": "",
       "version_major": 2,
       "version_minor": 0
      },
      "text/plain": [
       "Validation: |          | 0/? [00:00<?, ?it/s]"
      ]
     },
     "metadata": {},
     "output_type": "display_data"
    },
    {
     "data": {
      "application/vnd.jupyter.widget-view+json": {
       "model_id": "",
       "version_major": 2,
       "version_minor": 0
      },
      "text/plain": [
       "Validation: |          | 0/? [00:00<?, ?it/s]"
      ]
     },
     "metadata": {},
     "output_type": "display_data"
    },
    {
     "data": {
      "application/vnd.jupyter.widget-view+json": {
       "model_id": "",
       "version_major": 2,
       "version_minor": 0
      },
      "text/plain": [
       "Validation: |          | 0/? [00:00<?, ?it/s]"
      ]
     },
     "metadata": {},
     "output_type": "display_data"
    },
    {
     "data": {
      "application/vnd.jupyter.widget-view+json": {
       "model_id": "f80098741bc646718769acae4b39a273",
       "version_major": 2,
       "version_minor": 0
      },
      "text/plain": [
       "Validation: |          | 0/? [00:00<?, ?it/s]"
      ]
     },
     "metadata": {},
     "output_type": "display_data"
    },
    {
     "data": {
      "application/vnd.jupyter.widget-view+json": {
       "model_id": "a2431036eb894d3da105da50a70a5ebd",
       "version_major": 2,
       "version_minor": 0
      },
      "text/plain": [
       "Validation: |          | 0/? [00:00<?, ?it/s]"
      ]
     },
     "metadata": {},
     "output_type": "display_data"
    },
    {
     "data": {
      "application/vnd.jupyter.widget-view+json": {
       "model_id": "f1fae21c1c754cdeabd8316d3ed1009e",
       "version_major": 2,
       "version_minor": 0
      },
      "text/plain": [
       "Validation: |          | 0/? [00:00<?, ?it/s]"
      ]
     },
     "metadata": {},
     "output_type": "display_data"
    },
    {
     "data": {
      "application/vnd.jupyter.widget-view+json": {
       "model_id": "a12fd762cc2b4652acebcdc41df6aa92",
       "version_major": 2,
       "version_minor": 0
      },
      "text/plain": [
       "Validation: |          | 0/? [00:00<?, ?it/s]"
      ]
     },
     "metadata": {},
     "output_type": "display_data"
    },
    {
     "data": {
      "application/vnd.jupyter.widget-view+json": {
       "model_id": "a2e176557e8141618255ec7a9bbad0f8",
       "version_major": 2,
       "version_minor": 0
      },
      "text/plain": [
       "Validation: |          | 0/? [00:00<?, ?it/s]"
      ]
     },
     "metadata": {},
     "output_type": "display_data"
    },
    {
     "data": {
      "application/vnd.jupyter.widget-view+json": {
       "model_id": "b1b64de9b8d24b958ddfe02d839f0237",
       "version_major": 2,
       "version_minor": 0
      },
      "text/plain": [
       "Validation: |          | 0/? [00:00<?, ?it/s]"
      ]
     },
     "metadata": {},
     "output_type": "display_data"
    },
    {
     "data": {
      "application/vnd.jupyter.widget-view+json": {
       "model_id": "2075bce1745842c8bcaf55028e7d1ab9",
       "version_major": 2,
       "version_minor": 0
      },
      "text/plain": [
       "Validation: |          | 0/? [00:00<?, ?it/s]"
      ]
     },
     "metadata": {},
     "output_type": "display_data"
    },
    {
     "data": {
      "application/vnd.jupyter.widget-view+json": {
       "model_id": "41b5c32f5f11456e8e8441125b4ff917",
       "version_major": 2,
       "version_minor": 0
      },
      "text/plain": [
       "Validation: |          | 0/? [00:00<?, ?it/s]"
      ]
     },
     "metadata": {},
     "output_type": "display_data"
    },
    {
     "data": {
      "application/vnd.jupyter.widget-view+json": {
       "model_id": "22e5f1eb42d542a4bb20ef628ad937f5",
       "version_major": 2,
       "version_minor": 0
      },
      "text/plain": [
       "Validation: |          | 0/? [00:00<?, ?it/s]"
      ]
     },
     "metadata": {},
     "output_type": "display_data"
    },
    {
     "data": {
      "application/vnd.jupyter.widget-view+json": {
       "model_id": "66fe5f1e80ce48d3a581fd5accd8b063",
       "version_major": 2,
       "version_minor": 0
      },
      "text/plain": [
       "Validation: |          | 0/? [00:00<?, ?it/s]"
      ]
     },
     "metadata": {},
     "output_type": "display_data"
    },
    {
     "data": {
      "application/vnd.jupyter.widget-view+json": {
       "model_id": "9ecb561ca4f94ebf83989cefc4ac8517",
       "version_major": 2,
       "version_minor": 0
      },
      "text/plain": [
       "Validation: |          | 0/? [00:00<?, ?it/s]"
      ]
     },
     "metadata": {},
     "output_type": "display_data"
    },
    {
     "data": {
      "application/vnd.jupyter.widget-view+json": {
       "model_id": "fc4f6330b6e647199d63be806eeb971c",
       "version_major": 2,
       "version_minor": 0
      },
      "text/plain": [
       "Validation: |          | 0/? [00:00<?, ?it/s]"
      ]
     },
     "metadata": {},
     "output_type": "display_data"
    },
    {
     "data": {
      "application/vnd.jupyter.widget-view+json": {
       "model_id": "6acfe91a19ad4501973b35d584b25a9f",
       "version_major": 2,
       "version_minor": 0
      },
      "text/plain": [
       "Validation: |          | 0/? [00:00<?, ?it/s]"
      ]
     },
     "metadata": {},
     "output_type": "display_data"
    },
    {
     "data": {
      "application/vnd.jupyter.widget-view+json": {
       "model_id": "3062c2ace71e4e51a55dc74523471f61",
       "version_major": 2,
       "version_minor": 0
      },
      "text/plain": [
       "Validation: |          | 0/? [00:00<?, ?it/s]"
      ]
     },
     "metadata": {},
     "output_type": "display_data"
    },
    {
     "data": {
      "application/vnd.jupyter.widget-view+json": {
       "model_id": "c9dcdab45e28456f81a6ff853b7d82bf",
       "version_major": 2,
       "version_minor": 0
      },
      "text/plain": [
       "Validation: |          | 0/? [00:00<?, ?it/s]"
      ]
     },
     "metadata": {},
     "output_type": "display_data"
    },
    {
     "data": {
      "application/vnd.jupyter.widget-view+json": {
       "model_id": "d5c3ed73b6b2492f93073a34140a5389",
       "version_major": 2,
       "version_minor": 0
      },
      "text/plain": [
       "Validation: |          | 0/? [00:00<?, ?it/s]"
      ]
     },
     "metadata": {},
     "output_type": "display_data"
    },
    {
     "data": {
      "application/vnd.jupyter.widget-view+json": {
       "model_id": "4186a83ee56f4cd2a4d7cf040ddd09b8",
       "version_major": 2,
       "version_minor": 0
      },
      "text/plain": [
       "Validation: |          | 0/? [00:00<?, ?it/s]"
      ]
     },
     "metadata": {},
     "output_type": "display_data"
    },
    {
     "data": {
      "application/vnd.jupyter.widget-view+json": {
       "model_id": "83870579de2347df913636fd3402c5e1",
       "version_major": 2,
       "version_minor": 0
      },
      "text/plain": [
       "Validation: |          | 0/? [00:00<?, ?it/s]"
      ]
     },
     "metadata": {},
     "output_type": "display_data"
    },
    {
     "data": {
      "application/vnd.jupyter.widget-view+json": {
       "model_id": "cd2540bc1d6b485c83378f515ea6f422",
       "version_major": 2,
       "version_minor": 0
      },
      "text/plain": [
       "Validation: |          | 0/? [00:00<?, ?it/s]"
      ]
     },
     "metadata": {},
     "output_type": "display_data"
    },
    {
     "data": {
      "application/vnd.jupyter.widget-view+json": {
       "model_id": "140235b681854c6e991f594ca7e77837",
       "version_major": 2,
       "version_minor": 0
      },
      "text/plain": [
       "Validation: |          | 0/? [00:00<?, ?it/s]"
      ]
     },
     "metadata": {},
     "output_type": "display_data"
    },
    {
     "data": {
      "application/vnd.jupyter.widget-view+json": {
       "model_id": "26e211c2db6a4351ae9a6d5e844fcfd3",
       "version_major": 2,
       "version_minor": 0
      },
      "text/plain": [
       "Validation: |          | 0/? [00:00<?, ?it/s]"
      ]
     },
     "metadata": {},
     "output_type": "display_data"
    },
    {
     "data": {
      "application/vnd.jupyter.widget-view+json": {
       "model_id": "5292452caef8484fa6d63fb09cdd7922",
       "version_major": 2,
       "version_minor": 0
      },
      "text/plain": [
       "Validation: |          | 0/? [00:00<?, ?it/s]"
      ]
     },
     "metadata": {},
     "output_type": "display_data"
    },
    {
     "data": {
      "application/vnd.jupyter.widget-view+json": {
       "model_id": "efbe1143cbbd4a46aedd83426b303c69",
       "version_major": 2,
       "version_minor": 0
      },
      "text/plain": [
       "Validation: |          | 0/? [00:00<?, ?it/s]"
      ]
     },
     "metadata": {},
     "output_type": "display_data"
    },
    {
     "data": {
      "application/vnd.jupyter.widget-view+json": {
       "model_id": "f55249adfef04750afbd918f7f65e7e2",
       "version_major": 2,
       "version_minor": 0
      },
      "text/plain": [
       "Validation: |          | 0/? [00:00<?, ?it/s]"
      ]
     },
     "metadata": {},
     "output_type": "display_data"
    },
    {
     "data": {
      "application/vnd.jupyter.widget-view+json": {
       "model_id": "8ae49ba4b0374f95b923122f1efb015b",
       "version_major": 2,
       "version_minor": 0
      },
      "text/plain": [
       "Validation: |          | 0/? [00:00<?, ?it/s]"
      ]
     },
     "metadata": {},
     "output_type": "display_data"
    },
    {
     "data": {
      "application/vnd.jupyter.widget-view+json": {
       "model_id": "fa39ee223f30439f8e3898d98829b640",
       "version_major": 2,
       "version_minor": 0
      },
      "text/plain": [
       "Validation: |          | 0/? [00:00<?, ?it/s]"
      ]
     },
     "metadata": {},
     "output_type": "display_data"
    },
    {
     "data": {
      "application/vnd.jupyter.widget-view+json": {
       "model_id": "e743107e351648058c0e0f2715835b8b",
       "version_major": 2,
       "version_minor": 0
      },
      "text/plain": [
       "Validation: |          | 0/? [00:00<?, ?it/s]"
      ]
     },
     "metadata": {},
     "output_type": "display_data"
    },
    {
     "data": {
      "application/vnd.jupyter.widget-view+json": {
       "model_id": "ea31da27885e4bb4a93fd92c2b70d5ca",
       "version_major": 2,
       "version_minor": 0
      },
      "text/plain": [
       "Validation: |          | 0/? [00:00<?, ?it/s]"
      ]
     },
     "metadata": {},
     "output_type": "display_data"
    },
    {
     "data": {
      "application/vnd.jupyter.widget-view+json": {
       "model_id": "c5427989888c4ea8a7c116981744190e",
       "version_major": 2,
       "version_minor": 0
      },
      "text/plain": [
       "Validation: |          | 0/? [00:00<?, ?it/s]"
      ]
     },
     "metadata": {},
     "output_type": "display_data"
    },
    {
     "data": {
      "application/vnd.jupyter.widget-view+json": {
       "model_id": "613a8bc753bf4e71bb51875eb74f8578",
       "version_major": 2,
       "version_minor": 0
      },
      "text/plain": [
       "Validation: |          | 0/? [00:00<?, ?it/s]"
      ]
     },
     "metadata": {},
     "output_type": "display_data"
    },
    {
     "data": {
      "application/vnd.jupyter.widget-view+json": {
       "model_id": "793341a677674836b7242831a2d14425",
       "version_major": 2,
       "version_minor": 0
      },
      "text/plain": [
       "Validation: |          | 0/? [00:00<?, ?it/s]"
      ]
     },
     "metadata": {},
     "output_type": "display_data"
    },
    {
     "data": {
      "application/vnd.jupyter.widget-view+json": {
       "model_id": "4100c9086bbd407285198af99c945148",
       "version_major": 2,
       "version_minor": 0
      },
      "text/plain": [
       "Validation: |          | 0/? [00:00<?, ?it/s]"
      ]
     },
     "metadata": {},
     "output_type": "display_data"
    },
    {
     "data": {
      "application/vnd.jupyter.widget-view+json": {
       "model_id": "3c50d788e4b14feca83f8533c3b8f7bc",
       "version_major": 2,
       "version_minor": 0
      },
      "text/plain": [
       "Validation: |          | 0/? [00:00<?, ?it/s]"
      ]
     },
     "metadata": {},
     "output_type": "display_data"
    },
    {
     "data": {
      "application/vnd.jupyter.widget-view+json": {
       "model_id": "7ecb23b5a3d94e82a54224cb0b2043f8",
       "version_major": 2,
       "version_minor": 0
      },
      "text/plain": [
       "Validation: |          | 0/? [00:00<?, ?it/s]"
      ]
     },
     "metadata": {},
     "output_type": "display_data"
    },
    {
     "data": {
      "application/vnd.jupyter.widget-view+json": {
       "model_id": "6ec6027b410b4d318a202d2adcb88245",
       "version_major": 2,
       "version_minor": 0
      },
      "text/plain": [
       "Validation: |          | 0/? [00:00<?, ?it/s]"
      ]
     },
     "metadata": {},
     "output_type": "display_data"
    },
    {
     "data": {
      "application/vnd.jupyter.widget-view+json": {
       "model_id": "7ec18fb2a2524aa8a0087f586032a219",
       "version_major": 2,
       "version_minor": 0
      },
      "text/plain": [
       "Validation: |          | 0/? [00:00<?, ?it/s]"
      ]
     },
     "metadata": {},
     "output_type": "display_data"
    },
    {
     "data": {
      "application/vnd.jupyter.widget-view+json": {
       "model_id": "473dbefdf47e436ea365ef7c06c2381a",
       "version_major": 2,
       "version_minor": 0
      },
      "text/plain": [
       "Validation: |          | 0/? [00:00<?, ?it/s]"
      ]
     },
     "metadata": {},
     "output_type": "display_data"
    },
    {
     "data": {
      "application/vnd.jupyter.widget-view+json": {
       "model_id": "e61760ee73624a79b44fc039de681106",
       "version_major": 2,
       "version_minor": 0
      },
      "text/plain": [
       "Validation: |          | 0/? [00:00<?, ?it/s]"
      ]
     },
     "metadata": {},
     "output_type": "display_data"
    },
    {
     "data": {
      "application/vnd.jupyter.widget-view+json": {
       "model_id": "f9b1a45957fe414d8e3f522af2c4c342",
       "version_major": 2,
       "version_minor": 0
      },
      "text/plain": [
       "Validation: |          | 0/? [00:00<?, ?it/s]"
      ]
     },
     "metadata": {},
     "output_type": "display_data"
    },
    {
     "data": {
      "application/vnd.jupyter.widget-view+json": {
       "model_id": "e590590e850644bb938f6b3e93120b42",
       "version_major": 2,
       "version_minor": 0
      },
      "text/plain": [
       "Validation: |          | 0/? [00:00<?, ?it/s]"
      ]
     },
     "metadata": {},
     "output_type": "display_data"
    },
    {
     "data": {
      "application/vnd.jupyter.widget-view+json": {
       "model_id": "cec904a8e1f24ca6aed206aaf1f85e4c",
       "version_major": 2,
       "version_minor": 0
      },
      "text/plain": [
       "Validation: |          | 0/? [00:00<?, ?it/s]"
      ]
     },
     "metadata": {},
     "output_type": "display_data"
    },
    {
     "data": {
      "application/vnd.jupyter.widget-view+json": {
       "model_id": "c00e9039c6334ec2a1e11f5d4166a8f5",
       "version_major": 2,
       "version_minor": 0
      },
      "text/plain": [
       "Validation: |          | 0/? [00:00<?, ?it/s]"
      ]
     },
     "metadata": {},
     "output_type": "display_data"
    },
    {
     "data": {
      "application/vnd.jupyter.widget-view+json": {
       "model_id": "f5eb11f7c2474d178d7086eb6d8d02e5",
       "version_major": 2,
       "version_minor": 0
      },
      "text/plain": [
       "Validation: |          | 0/? [00:00<?, ?it/s]"
      ]
     },
     "metadata": {},
     "output_type": "display_data"
    },
    {
     "data": {
      "application/vnd.jupyter.widget-view+json": {
       "model_id": "fb0e6d029fb94ab39f0fad88ecf3568c",
       "version_major": 2,
       "version_minor": 0
      },
      "text/plain": [
       "Validation: |          | 0/? [00:00<?, ?it/s]"
      ]
     },
     "metadata": {},
     "output_type": "display_data"
    },
    {
     "data": {
      "application/vnd.jupyter.widget-view+json": {
       "model_id": "fc12ce5a5b8f4a149cf6141437a64fc7",
       "version_major": 2,
       "version_minor": 0
      },
      "text/plain": [
       "Validation: |          | 0/? [00:00<?, ?it/s]"
      ]
     },
     "metadata": {},
     "output_type": "display_data"
    },
    {
     "data": {
      "application/vnd.jupyter.widget-view+json": {
       "model_id": "09a21912da5c4ebc9d755c0098860fdd",
       "version_major": 2,
       "version_minor": 0
      },
      "text/plain": [
       "Validation: |          | 0/? [00:00<?, ?it/s]"
      ]
     },
     "metadata": {},
     "output_type": "display_data"
    },
    {
     "data": {
      "application/vnd.jupyter.widget-view+json": {
       "model_id": "8f34b1a8db6343c793fa92e97c715d59",
       "version_major": 2,
       "version_minor": 0
      },
      "text/plain": [
       "Validation: |          | 0/? [00:00<?, ?it/s]"
      ]
     },
     "metadata": {},
     "output_type": "display_data"
    },
    {
     "data": {
      "application/vnd.jupyter.widget-view+json": {
       "model_id": "80359ce4bea74805a2960ac718d2a483",
       "version_major": 2,
       "version_minor": 0
      },
      "text/plain": [
       "Validation: |          | 0/? [00:00<?, ?it/s]"
      ]
     },
     "metadata": {},
     "output_type": "display_data"
    },
    {
     "data": {
      "application/vnd.jupyter.widget-view+json": {
       "model_id": "510bbeaf90414abb964a91fc2d2d282c",
       "version_major": 2,
       "version_minor": 0
      },
      "text/plain": [
       "Validation: |          | 0/? [00:00<?, ?it/s]"
      ]
     },
     "metadata": {},
     "output_type": "display_data"
    },
    {
     "data": {
      "application/vnd.jupyter.widget-view+json": {
       "model_id": "9fecc7802c6145f6bde2994c9d8e7724",
       "version_major": 2,
       "version_minor": 0
      },
      "text/plain": [
       "Validation: |          | 0/? [00:00<?, ?it/s]"
      ]
     },
     "metadata": {},
     "output_type": "display_data"
    },
    {
     "data": {
      "application/vnd.jupyter.widget-view+json": {
       "model_id": "fff541b6ba674dae83e43d2bde4f4dd0",
       "version_major": 2,
       "version_minor": 0
      },
      "text/plain": [
       "Validation: |          | 0/? [00:00<?, ?it/s]"
      ]
     },
     "metadata": {},
     "output_type": "display_data"
    },
    {
     "data": {
      "application/vnd.jupyter.widget-view+json": {
       "model_id": "b3483f23a5e5489c83219f0400f31a3a",
       "version_major": 2,
       "version_minor": 0
      },
      "text/plain": [
       "Validation: |          | 0/? [00:00<?, ?it/s]"
      ]
     },
     "metadata": {},
     "output_type": "display_data"
    },
    {
     "data": {
      "application/vnd.jupyter.widget-view+json": {
       "model_id": "374e88383e7d485aba94fd7e44b6e9d8",
       "version_major": 2,
       "version_minor": 0
      },
      "text/plain": [
       "Validation: |          | 0/? [00:00<?, ?it/s]"
      ]
     },
     "metadata": {},
     "output_type": "display_data"
    },
    {
     "name": "stderr",
     "output_type": "stream",
     "text": [
      "IOPub message rate exceeded.\n",
      "The Jupyter server will temporarily stop sending output\n",
      "to the client in order to avoid crashing it.\n",
      "To change this limit, set the config variable\n",
      "`--ServerApp.iopub_msg_rate_limit`.\n",
      "\n",
      "Current values:\n",
      "ServerApp.iopub_msg_rate_limit=1000.0 (msgs/sec)\n",
      "ServerApp.rate_limit_window=3.0 (secs)\n",
      "\n"
     ]
    },
    {
     "data": {
      "application/vnd.jupyter.widget-view+json": {
       "model_id": "baf4091ab7f24467adf3ccb608c46228",
       "version_major": 2,
       "version_minor": 0
      },
      "text/plain": [
       "Validation: |          | 0/? [00:00<?, ?it/s]"
      ]
     },
     "metadata": {},
     "output_type": "display_data"
    },
    {
     "data": {
      "application/vnd.jupyter.widget-view+json": {
       "model_id": "212ec481fc634362bec34649b8287e0b",
       "version_major": 2,
       "version_minor": 0
      },
      "text/plain": [
       "Validation: |          | 0/? [00:00<?, ?it/s]"
      ]
     },
     "metadata": {},
     "output_type": "display_data"
    },
    {
     "data": {
      "application/vnd.jupyter.widget-view+json": {
       "model_id": "9bfa83d0ff9e46b2b33a0473163ee32c",
       "version_major": 2,
       "version_minor": 0
      },
      "text/plain": [
       "Validation: |          | 0/? [00:00<?, ?it/s]"
      ]
     },
     "metadata": {},
     "output_type": "display_data"
    },
    {
     "data": {
      "application/vnd.jupyter.widget-view+json": {
       "model_id": "a35d88983ed946c59c5e8e27f4fbfb03",
       "version_major": 2,
       "version_minor": 0
      },
      "text/plain": [
       "Validation: |          | 0/? [00:00<?, ?it/s]"
      ]
     },
     "metadata": {},
     "output_type": "display_data"
    },
    {
     "data": {
      "application/vnd.jupyter.widget-view+json": {
       "model_id": "e717861a573342f2a45fd1ef8f4a09e7",
       "version_major": 2,
       "version_minor": 0
      },
      "text/plain": [
       "Validation: |          | 0/? [00:00<?, ?it/s]"
      ]
     },
     "metadata": {},
     "output_type": "display_data"
    },
    {
     "data": {
      "application/vnd.jupyter.widget-view+json": {
       "model_id": "460785765de04c5aab91110797dd8f3a",
       "version_major": 2,
       "version_minor": 0
      },
      "text/plain": [
       "Validation: |          | 0/? [00:00<?, ?it/s]"
      ]
     },
     "metadata": {},
     "output_type": "display_data"
    },
    {
     "data": {
      "application/vnd.jupyter.widget-view+json": {
       "model_id": "71ea52acdd39436880a59654f611d876",
       "version_major": 2,
       "version_minor": 0
      },
      "text/plain": [
       "Validation: |          | 0/? [00:00<?, ?it/s]"
      ]
     },
     "metadata": {},
     "output_type": "display_data"
    },
    {
     "data": {
      "application/vnd.jupyter.widget-view+json": {
       "model_id": "bdad7d4754414ae484621f656d242109",
       "version_major": 2,
       "version_minor": 0
      },
      "text/plain": [
       "Validation: |          | 0/? [00:00<?, ?it/s]"
      ]
     },
     "metadata": {},
     "output_type": "display_data"
    },
    {
     "data": {
      "application/vnd.jupyter.widget-view+json": {
       "model_id": "7a09cf06ee0342b59be35e64e9e5995c",
       "version_major": 2,
       "version_minor": 0
      },
      "text/plain": [
       "Validation: |          | 0/? [00:00<?, ?it/s]"
      ]
     },
     "metadata": {},
     "output_type": "display_data"
    },
    {
     "data": {
      "application/vnd.jupyter.widget-view+json": {
       "model_id": "a2f0c7b33d504cc7b27891a5b7a09b95",
       "version_major": 2,
       "version_minor": 0
      },
      "text/plain": [
       "Validation: |          | 0/? [00:00<?, ?it/s]"
      ]
     },
     "metadata": {},
     "output_type": "display_data"
    },
    {
     "data": {
      "application/vnd.jupyter.widget-view+json": {
       "model_id": "8bcb0b6826304c4faa7a465398dcf07c",
       "version_major": 2,
       "version_minor": 0
      },
      "text/plain": [
       "Validation: |          | 0/? [00:00<?, ?it/s]"
      ]
     },
     "metadata": {},
     "output_type": "display_data"
    },
    {
     "data": {
      "application/vnd.jupyter.widget-view+json": {
       "model_id": "bd3df806b5d144199524d01b4081e856",
       "version_major": 2,
       "version_minor": 0
      },
      "text/plain": [
       "Validation: |          | 0/? [00:00<?, ?it/s]"
      ]
     },
     "metadata": {},
     "output_type": "display_data"
    },
    {
     "data": {
      "application/vnd.jupyter.widget-view+json": {
       "model_id": "09a8e22815d34f3caf887c9b0f6265ea",
       "version_major": 2,
       "version_minor": 0
      },
      "text/plain": [
       "Validation: |          | 0/? [00:00<?, ?it/s]"
      ]
     },
     "metadata": {},
     "output_type": "display_data"
    },
    {
     "data": {
      "application/vnd.jupyter.widget-view+json": {
       "model_id": "8d2b1b615fe44a2b89f595decff2bf72",
       "version_major": 2,
       "version_minor": 0
      },
      "text/plain": [
       "Validation: |          | 0/? [00:00<?, ?it/s]"
      ]
     },
     "metadata": {},
     "output_type": "display_data"
    },
    {
     "data": {
      "application/vnd.jupyter.widget-view+json": {
       "model_id": "8825c3c43c39479394f3bc30104f7aaa",
       "version_major": 2,
       "version_minor": 0
      },
      "text/plain": [
       "Validation: |          | 0/? [00:00<?, ?it/s]"
      ]
     },
     "metadata": {},
     "output_type": "display_data"
    },
    {
     "data": {
      "application/vnd.jupyter.widget-view+json": {
       "model_id": "e7c1706ef156495eb6f465207c92027c",
       "version_major": 2,
       "version_minor": 0
      },
      "text/plain": [
       "Validation: |          | 0/? [00:00<?, ?it/s]"
      ]
     },
     "metadata": {},
     "output_type": "display_data"
    },
    {
     "data": {
      "application/vnd.jupyter.widget-view+json": {
       "model_id": "71942e4c251b4b449866a699ccc27b63",
       "version_major": 2,
       "version_minor": 0
      },
      "text/plain": [
       "Validation: |          | 0/? [00:00<?, ?it/s]"
      ]
     },
     "metadata": {},
     "output_type": "display_data"
    },
    {
     "data": {
      "application/vnd.jupyter.widget-view+json": {
       "model_id": "6966e0e9ac014b9b81e427e984908d08",
       "version_major": 2,
       "version_minor": 0
      },
      "text/plain": [
       "Validation: |          | 0/? [00:00<?, ?it/s]"
      ]
     },
     "metadata": {},
     "output_type": "display_data"
    },
    {
     "data": {
      "application/vnd.jupyter.widget-view+json": {
       "model_id": "2f45dc30949e48e9b4221a750283880d",
       "version_major": 2,
       "version_minor": 0
      },
      "text/plain": [
       "Validation: |          | 0/? [00:00<?, ?it/s]"
      ]
     },
     "metadata": {},
     "output_type": "display_data"
    },
    {
     "data": {
      "application/vnd.jupyter.widget-view+json": {
       "model_id": "bba7695537424f3e92ffe4cc05fc853a",
       "version_major": 2,
       "version_minor": 0
      },
      "text/plain": [
       "Validation: |          | 0/? [00:00<?, ?it/s]"
      ]
     },
     "metadata": {},
     "output_type": "display_data"
    },
    {
     "data": {
      "application/vnd.jupyter.widget-view+json": {
       "model_id": "0d4bb71c322c4bc49e310fcb0f08fdcb",
       "version_major": 2,
       "version_minor": 0
      },
      "text/plain": [
       "Validation: |          | 0/? [00:00<?, ?it/s]"
      ]
     },
     "metadata": {},
     "output_type": "display_data"
    },
    {
     "data": {
      "application/vnd.jupyter.widget-view+json": {
       "model_id": "0ea60ea8dce847f69d93059795221282",
       "version_major": 2,
       "version_minor": 0
      },
      "text/plain": [
       "Validation: |          | 0/? [00:00<?, ?it/s]"
      ]
     },
     "metadata": {},
     "output_type": "display_data"
    },
    {
     "data": {
      "application/vnd.jupyter.widget-view+json": {
       "model_id": "0fc808ccd8bc449d98db1a3a32837ea8",
       "version_major": 2,
       "version_minor": 0
      },
      "text/plain": [
       "Validation: |          | 0/? [00:00<?, ?it/s]"
      ]
     },
     "metadata": {},
     "output_type": "display_data"
    },
    {
     "data": {
      "application/vnd.jupyter.widget-view+json": {
       "model_id": "d7d3ecb46f38436992c09b16a9b7e8c4",
       "version_major": 2,
       "version_minor": 0
      },
      "text/plain": [
       "Validation: |          | 0/? [00:00<?, ?it/s]"
      ]
     },
     "metadata": {},
     "output_type": "display_data"
    },
    {
     "data": {
      "application/vnd.jupyter.widget-view+json": {
       "model_id": "1839742f70cb4f7c9dbffe3078885ed6",
       "version_major": 2,
       "version_minor": 0
      },
      "text/plain": [
       "Validation: |          | 0/? [00:00<?, ?it/s]"
      ]
     },
     "metadata": {},
     "output_type": "display_data"
    },
    {
     "data": {
      "application/vnd.jupyter.widget-view+json": {
       "model_id": "59d13b6187564acaa10dc30fde27093c",
       "version_major": 2,
       "version_minor": 0
      },
      "text/plain": [
       "Validation: |          | 0/? [00:00<?, ?it/s]"
      ]
     },
     "metadata": {},
     "output_type": "display_data"
    },
    {
     "data": {
      "application/vnd.jupyter.widget-view+json": {
       "model_id": "942accdb898b4446b1fd1464113a9d64",
       "version_major": 2,
       "version_minor": 0
      },
      "text/plain": [
       "Validation: |          | 0/? [00:00<?, ?it/s]"
      ]
     },
     "metadata": {},
     "output_type": "display_data"
    },
    {
     "data": {
      "application/vnd.jupyter.widget-view+json": {
       "model_id": "522a7067ffd043629455f2f55ce6e111",
       "version_major": 2,
       "version_minor": 0
      },
      "text/plain": [
       "Validation: |          | 0/? [00:00<?, ?it/s]"
      ]
     },
     "metadata": {},
     "output_type": "display_data"
    },
    {
     "data": {
      "application/vnd.jupyter.widget-view+json": {
       "model_id": "234c6a8875f044fa9ec821dbbda7d75f",
       "version_major": 2,
       "version_minor": 0
      },
      "text/plain": [
       "Validation: |          | 0/? [00:00<?, ?it/s]"
      ]
     },
     "metadata": {},
     "output_type": "display_data"
    },
    {
     "data": {
      "application/vnd.jupyter.widget-view+json": {
       "model_id": "cdc9188ff0d145789e493179e9707db7",
       "version_major": 2,
       "version_minor": 0
      },
      "text/plain": [
       "Validation: |          | 0/? [00:00<?, ?it/s]"
      ]
     },
     "metadata": {},
     "output_type": "display_data"
    },
    {
     "data": {
      "application/vnd.jupyter.widget-view+json": {
       "model_id": "0b21991c9b36479780f1387c04034af7",
       "version_major": 2,
       "version_minor": 0
      },
      "text/plain": [
       "Validation: |          | 0/? [00:00<?, ?it/s]"
      ]
     },
     "metadata": {},
     "output_type": "display_data"
    },
    {
     "data": {
      "application/vnd.jupyter.widget-view+json": {
       "model_id": "d63dd13e986e40838436a95f8460515c",
       "version_major": 2,
       "version_minor": 0
      },
      "text/plain": [
       "Validation: |          | 0/? [00:00<?, ?it/s]"
      ]
     },
     "metadata": {},
     "output_type": "display_data"
    },
    {
     "data": {
      "application/vnd.jupyter.widget-view+json": {
       "model_id": "5c4f0a4d437a4898a8beab701d4dbe4b",
       "version_major": 2,
       "version_minor": 0
      },
      "text/plain": [
       "Validation: |          | 0/? [00:00<?, ?it/s]"
      ]
     },
     "metadata": {},
     "output_type": "display_data"
    },
    {
     "data": {
      "application/vnd.jupyter.widget-view+json": {
       "model_id": "7ad5dd315a7d4ae0ba9c583538412f90",
       "version_major": 2,
       "version_minor": 0
      },
      "text/plain": [
       "Validation: |          | 0/? [00:00<?, ?it/s]"
      ]
     },
     "metadata": {},
     "output_type": "display_data"
    },
    {
     "data": {
      "application/vnd.jupyter.widget-view+json": {
       "model_id": "5c546cf9ce7649ccae4de17cdbc548af",
       "version_major": 2,
       "version_minor": 0
      },
      "text/plain": [
       "Validation: |          | 0/? [00:00<?, ?it/s]"
      ]
     },
     "metadata": {},
     "output_type": "display_data"
    },
    {
     "data": {
      "application/vnd.jupyter.widget-view+json": {
       "model_id": "2052b8e1eb0d4a8fa0b0316d452c623d",
       "version_major": 2,
       "version_minor": 0
      },
      "text/plain": [
       "Validation: |          | 0/? [00:00<?, ?it/s]"
      ]
     },
     "metadata": {},
     "output_type": "display_data"
    },
    {
     "data": {
      "application/vnd.jupyter.widget-view+json": {
       "model_id": "12d0ed5924854d9fb4d233e8c76d3257",
       "version_major": 2,
       "version_minor": 0
      },
      "text/plain": [
       "Validation: |          | 0/? [00:00<?, ?it/s]"
      ]
     },
     "metadata": {},
     "output_type": "display_data"
    },
    {
     "data": {
      "application/vnd.jupyter.widget-view+json": {
       "model_id": "b4521688a16049868ab90b65838b4a94",
       "version_major": 2,
       "version_minor": 0
      },
      "text/plain": [
       "Validation: |          | 0/? [00:00<?, ?it/s]"
      ]
     },
     "metadata": {},
     "output_type": "display_data"
    },
    {
     "data": {
      "application/vnd.jupyter.widget-view+json": {
       "model_id": "c0346c8edec9489f81addf2c0dcbac70",
       "version_major": 2,
       "version_minor": 0
      },
      "text/plain": [
       "Validation: |          | 0/? [00:00<?, ?it/s]"
      ]
     },
     "metadata": {},
     "output_type": "display_data"
    },
    {
     "data": {
      "application/vnd.jupyter.widget-view+json": {
       "model_id": "283bb1ac0a5f4bacb0ff46b39771c21f",
       "version_major": 2,
       "version_minor": 0
      },
      "text/plain": [
       "Validation: |          | 0/? [00:00<?, ?it/s]"
      ]
     },
     "metadata": {},
     "output_type": "display_data"
    },
    {
     "data": {
      "application/vnd.jupyter.widget-view+json": {
       "model_id": "8e6cc4c3c7c74659b0e2bd2e3a21af7e",
       "version_major": 2,
       "version_minor": 0
      },
      "text/plain": [
       "Validation: |          | 0/? [00:00<?, ?it/s]"
      ]
     },
     "metadata": {},
     "output_type": "display_data"
    },
    {
     "data": {
      "application/vnd.jupyter.widget-view+json": {
       "model_id": "6050396ab4e94c8589e76e1b6af711c3",
       "version_major": 2,
       "version_minor": 0
      },
      "text/plain": [
       "Validation: |          | 0/? [00:00<?, ?it/s]"
      ]
     },
     "metadata": {},
     "output_type": "display_data"
    },
    {
     "data": {
      "application/vnd.jupyter.widget-view+json": {
       "model_id": "5b0f62223e76483c88a6c5a8c3f1865a",
       "version_major": 2,
       "version_minor": 0
      },
      "text/plain": [
       "Validation: |          | 0/? [00:00<?, ?it/s]"
      ]
     },
     "metadata": {},
     "output_type": "display_data"
    },
    {
     "data": {
      "application/vnd.jupyter.widget-view+json": {
       "model_id": "8b7f30676c854a97a5caddcac6a5e03f",
       "version_major": 2,
       "version_minor": 0
      },
      "text/plain": [
       "Validation: |          | 0/? [00:00<?, ?it/s]"
      ]
     },
     "metadata": {},
     "output_type": "display_data"
    },
    {
     "data": {
      "application/vnd.jupyter.widget-view+json": {
       "model_id": "0aad7d9b908d4377953398470d93997d",
       "version_major": 2,
       "version_minor": 0
      },
      "text/plain": [
       "Validation: |          | 0/? [00:00<?, ?it/s]"
      ]
     },
     "metadata": {},
     "output_type": "display_data"
    },
    {
     "data": {
      "application/vnd.jupyter.widget-view+json": {
       "model_id": "aa9f6253103642b3acf3dc313efe261b",
       "version_major": 2,
       "version_minor": 0
      },
      "text/plain": [
       "Validation: |          | 0/? [00:00<?, ?it/s]"
      ]
     },
     "metadata": {},
     "output_type": "display_data"
    },
    {
     "data": {
      "application/vnd.jupyter.widget-view+json": {
       "model_id": "06b53c909607443eac4cb5c0551018c2",
       "version_major": 2,
       "version_minor": 0
      },
      "text/plain": [
       "Validation: |          | 0/? [00:00<?, ?it/s]"
      ]
     },
     "metadata": {},
     "output_type": "display_data"
    },
    {
     "data": {
      "application/vnd.jupyter.widget-view+json": {
       "model_id": "952bcc3f53524bdf81b1ba154ee4a724",
       "version_major": 2,
       "version_minor": 0
      },
      "text/plain": [
       "Validation: |          | 0/? [00:00<?, ?it/s]"
      ]
     },
     "metadata": {},
     "output_type": "display_data"
    },
    {
     "data": {
      "application/vnd.jupyter.widget-view+json": {
       "model_id": "5fe0f0c0a23849a0a1b51c5d7e999931",
       "version_major": 2,
       "version_minor": 0
      },
      "text/plain": [
       "Validation: |          | 0/? [00:00<?, ?it/s]"
      ]
     },
     "metadata": {},
     "output_type": "display_data"
    },
    {
     "data": {
      "application/vnd.jupyter.widget-view+json": {
       "model_id": "c6a997c50e65444081206d45ad95073f",
       "version_major": 2,
       "version_minor": 0
      },
      "text/plain": [
       "Validation: |          | 0/? [00:00<?, ?it/s]"
      ]
     },
     "metadata": {},
     "output_type": "display_data"
    },
    {
     "data": {
      "application/vnd.jupyter.widget-view+json": {
       "model_id": "f1f67f54048749e59cc4c91003008501",
       "version_major": 2,
       "version_minor": 0
      },
      "text/plain": [
       "Validation: |          | 0/? [00:00<?, ?it/s]"
      ]
     },
     "metadata": {},
     "output_type": "display_data"
    },
    {
     "data": {
      "application/vnd.jupyter.widget-view+json": {
       "model_id": "a6a16c0f8db94d9d8ffb3b12dee63d0a",
       "version_major": 2,
       "version_minor": 0
      },
      "text/plain": [
       "Validation: |          | 0/? [00:00<?, ?it/s]"
      ]
     },
     "metadata": {},
     "output_type": "display_data"
    },
    {
     "data": {
      "application/vnd.jupyter.widget-view+json": {
       "model_id": "7a7a674b8f864bef9d8a8787247b2562",
       "version_major": 2,
       "version_minor": 0
      },
      "text/plain": [
       "Validation: |          | 0/? [00:00<?, ?it/s]"
      ]
     },
     "metadata": {},
     "output_type": "display_data"
    },
    {
     "data": {
      "application/vnd.jupyter.widget-view+json": {
       "model_id": "49b5b528c42d45b6b6614fb6b675d3bf",
       "version_major": 2,
       "version_minor": 0
      },
      "text/plain": [
       "Validation: |          | 0/? [00:00<?, ?it/s]"
      ]
     },
     "metadata": {},
     "output_type": "display_data"
    },
    {
     "data": {
      "application/vnd.jupyter.widget-view+json": {
       "model_id": "61e7c4a5ef154f3b983ed23eb3fddaf4",
       "version_major": 2,
       "version_minor": 0
      },
      "text/plain": [
       "Validation: |          | 0/? [00:00<?, ?it/s]"
      ]
     },
     "metadata": {},
     "output_type": "display_data"
    },
    {
     "data": {
      "application/vnd.jupyter.widget-view+json": {
       "model_id": "b1b3af1f5a22437bb106bb01cb44194a",
       "version_major": 2,
       "version_minor": 0
      },
      "text/plain": [
       "Validation: |          | 0/? [00:00<?, ?it/s]"
      ]
     },
     "metadata": {},
     "output_type": "display_data"
    },
    {
     "data": {
      "application/vnd.jupyter.widget-view+json": {
       "model_id": "bae1660e82f646efaeb89c2bed4aed57",
       "version_major": 2,
       "version_minor": 0
      },
      "text/plain": [
       "Validation: |          | 0/? [00:00<?, ?it/s]"
      ]
     },
     "metadata": {},
     "output_type": "display_data"
    },
    {
     "data": {
      "application/vnd.jupyter.widget-view+json": {
       "model_id": "4ee0a289f195470087bb6b647fe76c6e",
       "version_major": 2,
       "version_minor": 0
      },
      "text/plain": [
       "Validation: |          | 0/? [00:00<?, ?it/s]"
      ]
     },
     "metadata": {},
     "output_type": "display_data"
    },
    {
     "data": {
      "application/vnd.jupyter.widget-view+json": {
       "model_id": "69ff43898f774b878b9e40e6e16dd4f0",
       "version_major": 2,
       "version_minor": 0
      },
      "text/plain": [
       "Validation: |          | 0/? [00:00<?, ?it/s]"
      ]
     },
     "metadata": {},
     "output_type": "display_data"
    },
    {
     "data": {
      "application/vnd.jupyter.widget-view+json": {
       "model_id": "86f27b3255084feba2e003d5abbb9102",
       "version_major": 2,
       "version_minor": 0
      },
      "text/plain": [
       "Validation: |          | 0/? [00:00<?, ?it/s]"
      ]
     },
     "metadata": {},
     "output_type": "display_data"
    },
    {
     "data": {
      "application/vnd.jupyter.widget-view+json": {
       "model_id": "0d5b02f77dc6434f85fcc0f113203223",
       "version_major": 2,
       "version_minor": 0
      },
      "text/plain": [
       "Validation: |          | 0/? [00:00<?, ?it/s]"
      ]
     },
     "metadata": {},
     "output_type": "display_data"
    },
    {
     "data": {
      "application/vnd.jupyter.widget-view+json": {
       "model_id": "9c9c53626fad44d0a5bfa9a6a3b37c2c",
       "version_major": 2,
       "version_minor": 0
      },
      "text/plain": [
       "Validation: |          | 0/? [00:00<?, ?it/s]"
      ]
     },
     "metadata": {},
     "output_type": "display_data"
    },
    {
     "data": {
      "application/vnd.jupyter.widget-view+json": {
       "model_id": "8fd55470d1a04ce9acd62e3d273fae09",
       "version_major": 2,
       "version_minor": 0
      },
      "text/plain": [
       "Validation: |          | 0/? [00:00<?, ?it/s]"
      ]
     },
     "metadata": {},
     "output_type": "display_data"
    },
    {
     "data": {
      "application/vnd.jupyter.widget-view+json": {
       "model_id": "837728f72f784d31861e7d8edf7b48f1",
       "version_major": 2,
       "version_minor": 0
      },
      "text/plain": [
       "Validation: |          | 0/? [00:00<?, ?it/s]"
      ]
     },
     "metadata": {},
     "output_type": "display_data"
    },
    {
     "data": {
      "application/vnd.jupyter.widget-view+json": {
       "model_id": "b6c1bb8eede845619b7bcf2b6e85dfa7",
       "version_major": 2,
       "version_minor": 0
      },
      "text/plain": [
       "Validation: |          | 0/? [00:00<?, ?it/s]"
      ]
     },
     "metadata": {},
     "output_type": "display_data"
    },
    {
     "data": {
      "application/vnd.jupyter.widget-view+json": {
       "model_id": "1737756073df4f6a967d8e7801deaf6b",
       "version_major": 2,
       "version_minor": 0
      },
      "text/plain": [
       "Validation: |          | 0/? [00:00<?, ?it/s]"
      ]
     },
     "metadata": {},
     "output_type": "display_data"
    },
    {
     "data": {
      "application/vnd.jupyter.widget-view+json": {
       "model_id": "ffc916314135473980a61686f6103700",
       "version_major": 2,
       "version_minor": 0
      },
      "text/plain": [
       "Validation: |          | 0/? [00:00<?, ?it/s]"
      ]
     },
     "metadata": {},
     "output_type": "display_data"
    },
    {
     "data": {
      "application/vnd.jupyter.widget-view+json": {
       "model_id": "3531dfe3a8fb40d2a4e7b18a1dd81c59",
       "version_major": 2,
       "version_minor": 0
      },
      "text/plain": [
       "Validation: |          | 0/? [00:00<?, ?it/s]"
      ]
     },
     "metadata": {},
     "output_type": "display_data"
    },
    {
     "data": {
      "application/vnd.jupyter.widget-view+json": {
       "model_id": "420ca233b65342d7bac9e5295171a942",
       "version_major": 2,
       "version_minor": 0
      },
      "text/plain": [
       "Validation: |          | 0/? [00:00<?, ?it/s]"
      ]
     },
     "metadata": {},
     "output_type": "display_data"
    },
    {
     "data": {
      "application/vnd.jupyter.widget-view+json": {
       "model_id": "85ec6b8fe8874993bc43bce1245f082e",
       "version_major": 2,
       "version_minor": 0
      },
      "text/plain": [
       "Validation: |          | 0/? [00:00<?, ?it/s]"
      ]
     },
     "metadata": {},
     "output_type": "display_data"
    },
    {
     "data": {
      "application/vnd.jupyter.widget-view+json": {
       "model_id": "ab1482f0f07243b58670efbbf0595212",
       "version_major": 2,
       "version_minor": 0
      },
      "text/plain": [
       "Validation: |          | 0/? [00:00<?, ?it/s]"
      ]
     },
     "metadata": {},
     "output_type": "display_data"
    },
    {
     "data": {
      "application/vnd.jupyter.widget-view+json": {
       "model_id": "b0851bdce07a47d9896981be0189c475",
       "version_major": 2,
       "version_minor": 0
      },
      "text/plain": [
       "Validation: |          | 0/? [00:00<?, ?it/s]"
      ]
     },
     "metadata": {},
     "output_type": "display_data"
    },
    {
     "data": {
      "application/vnd.jupyter.widget-view+json": {
       "model_id": "43037867d6b746bd87c947fa32681c75",
       "version_major": 2,
       "version_minor": 0
      },
      "text/plain": [
       "Validation: |          | 0/? [00:00<?, ?it/s]"
      ]
     },
     "metadata": {},
     "output_type": "display_data"
    },
    {
     "data": {
      "application/vnd.jupyter.widget-view+json": {
       "model_id": "2fce2ab6b90c4d7c9d57f75421f798a5",
       "version_major": 2,
       "version_minor": 0
      },
      "text/plain": [
       "Validation: |          | 0/? [00:00<?, ?it/s]"
      ]
     },
     "metadata": {},
     "output_type": "display_data"
    },
    {
     "data": {
      "application/vnd.jupyter.widget-view+json": {
       "model_id": "478a69fca5ad469ea4c5ee5d0aadfb8a",
       "version_major": 2,
       "version_minor": 0
      },
      "text/plain": [
       "Validation: |          | 0/? [00:00<?, ?it/s]"
      ]
     },
     "metadata": {},
     "output_type": "display_data"
    },
    {
     "data": {
      "application/vnd.jupyter.widget-view+json": {
       "model_id": "870a662a2dfa43c78a4e2de0b3709b75",
       "version_major": 2,
       "version_minor": 0
      },
      "text/plain": [
       "Validation: |          | 0/? [00:00<?, ?it/s]"
      ]
     },
     "metadata": {},
     "output_type": "display_data"
    },
    {
     "data": {
      "application/vnd.jupyter.widget-view+json": {
       "model_id": "981c1e5646f14ef79c434932398da1c7",
       "version_major": 2,
       "version_minor": 0
      },
      "text/plain": [
       "Validation: |          | 0/? [00:00<?, ?it/s]"
      ]
     },
     "metadata": {},
     "output_type": "display_data"
    },
    {
     "data": {
      "application/vnd.jupyter.widget-view+json": {
       "model_id": "e6fb51ae727b4ee7bf0a94382e57a8c1",
       "version_major": 2,
       "version_minor": 0
      },
      "text/plain": [
       "Validation: |          | 0/? [00:00<?, ?it/s]"
      ]
     },
     "metadata": {},
     "output_type": "display_data"
    },
    {
     "data": {
      "application/vnd.jupyter.widget-view+json": {
       "model_id": "38b0583ae6f7464aa7048164c6d24a06",
       "version_major": 2,
       "version_minor": 0
      },
      "text/plain": [
       "Validation: |          | 0/? [00:00<?, ?it/s]"
      ]
     },
     "metadata": {},
     "output_type": "display_data"
    },
    {
     "data": {
      "application/vnd.jupyter.widget-view+json": {
       "model_id": "35b9c1aa7d97442b80b667263e556877",
       "version_major": 2,
       "version_minor": 0
      },
      "text/plain": [
       "Validation: |          | 0/? [00:00<?, ?it/s]"
      ]
     },
     "metadata": {},
     "output_type": "display_data"
    },
    {
     "data": {
      "application/vnd.jupyter.widget-view+json": {
       "model_id": "111f6c5b38984b859f9d357c9d534399",
       "version_major": 2,
       "version_minor": 0
      },
      "text/plain": [
       "Validation: |          | 0/? [00:00<?, ?it/s]"
      ]
     },
     "metadata": {},
     "output_type": "display_data"
    },
    {
     "data": {
      "application/vnd.jupyter.widget-view+json": {
       "model_id": "c4a710f019364a2ca882991392337801",
       "version_major": 2,
       "version_minor": 0
      },
      "text/plain": [
       "Validation: |          | 0/? [00:00<?, ?it/s]"
      ]
     },
     "metadata": {},
     "output_type": "display_data"
    },
    {
     "data": {
      "application/vnd.jupyter.widget-view+json": {
       "model_id": "69978ed8790f4b2292b5367fa3528540",
       "version_major": 2,
       "version_minor": 0
      },
      "text/plain": [
       "Validation: |          | 0/? [00:00<?, ?it/s]"
      ]
     },
     "metadata": {},
     "output_type": "display_data"
    },
    {
     "data": {
      "application/vnd.jupyter.widget-view+json": {
       "model_id": "917f0ceb8c3b472aa1c50854c09751a4",
       "version_major": 2,
       "version_minor": 0
      },
      "text/plain": [
       "Validation: |          | 0/? [00:00<?, ?it/s]"
      ]
     },
     "metadata": {},
     "output_type": "display_data"
    },
    {
     "data": {
      "application/vnd.jupyter.widget-view+json": {
       "model_id": "90fb76ff8c0847aeb21797b1d6a26911",
       "version_major": 2,
       "version_minor": 0
      },
      "text/plain": [
       "Validation: |          | 0/? [00:00<?, ?it/s]"
      ]
     },
     "metadata": {},
     "output_type": "display_data"
    },
    {
     "data": {
      "application/vnd.jupyter.widget-view+json": {
       "model_id": "7a0d9dc5026e40e187d8f8d036dd26c9",
       "version_major": 2,
       "version_minor": 0
      },
      "text/plain": [
       "Validation: |          | 0/? [00:00<?, ?it/s]"
      ]
     },
     "metadata": {},
     "output_type": "display_data"
    },
    {
     "data": {
      "application/vnd.jupyter.widget-view+json": {
       "model_id": "b60c0fd4dc444108bf51c3293c8cc677",
       "version_major": 2,
       "version_minor": 0
      },
      "text/plain": [
       "Validation: |          | 0/? [00:00<?, ?it/s]"
      ]
     },
     "metadata": {},
     "output_type": "display_data"
    },
    {
     "data": {
      "application/vnd.jupyter.widget-view+json": {
       "model_id": "6c4f7ed8a91a4b1d80f1c20fd6c283f4",
       "version_major": 2,
       "version_minor": 0
      },
      "text/plain": [
       "Validation: |          | 0/? [00:00<?, ?it/s]"
      ]
     },
     "metadata": {},
     "output_type": "display_data"
    },
    {
     "data": {
      "application/vnd.jupyter.widget-view+json": {
       "model_id": "cb01a568c8d043598aba57d13a4cac42",
       "version_major": 2,
       "version_minor": 0
      },
      "text/plain": [
       "Validation: |          | 0/? [00:00<?, ?it/s]"
      ]
     },
     "metadata": {},
     "output_type": "display_data"
    },
    {
     "data": {
      "application/vnd.jupyter.widget-view+json": {
       "model_id": "4908894fcc214732aa35f6ef238e5836",
       "version_major": 2,
       "version_minor": 0
      },
      "text/plain": [
       "Validation: |          | 0/? [00:00<?, ?it/s]"
      ]
     },
     "metadata": {},
     "output_type": "display_data"
    },
    {
     "data": {
      "application/vnd.jupyter.widget-view+json": {
       "model_id": "7d3507f232d849b19334df1be3af3bb5",
       "version_major": 2,
       "version_minor": 0
      },
      "text/plain": [
       "Validation: |          | 0/? [00:00<?, ?it/s]"
      ]
     },
     "metadata": {},
     "output_type": "display_data"
    },
    {
     "data": {
      "application/vnd.jupyter.widget-view+json": {
       "model_id": "b4a12b37795f43dd90bcee3abe940e16",
       "version_major": 2,
       "version_minor": 0
      },
      "text/plain": [
       "Validation: |          | 0/? [00:00<?, ?it/s]"
      ]
     },
     "metadata": {},
     "output_type": "display_data"
    },
    {
     "data": {
      "application/vnd.jupyter.widget-view+json": {
       "model_id": "178a190f009d4b7d9dbb0be82cacd39a",
       "version_major": 2,
       "version_minor": 0
      },
      "text/plain": [
       "Validation: |          | 0/? [00:00<?, ?it/s]"
      ]
     },
     "metadata": {},
     "output_type": "display_data"
    },
    {
     "data": {
      "application/vnd.jupyter.widget-view+json": {
       "model_id": "54c8b471b23a4e78b8e1f339ee7d05d1",
       "version_major": 2,
       "version_minor": 0
      },
      "text/plain": [
       "Validation: |          | 0/? [00:00<?, ?it/s]"
      ]
     },
     "metadata": {},
     "output_type": "display_data"
    },
    {
     "data": {
      "application/vnd.jupyter.widget-view+json": {
       "model_id": "c122e6f1e2394e218e5a3450690bcfc3",
       "version_major": 2,
       "version_minor": 0
      },
      "text/plain": [
       "Validation: |          | 0/? [00:00<?, ?it/s]"
      ]
     },
     "metadata": {},
     "output_type": "display_data"
    },
    {
     "data": {
      "application/vnd.jupyter.widget-view+json": {
       "model_id": "90568c5e4276488e9b875acad114d263",
       "version_major": 2,
       "version_minor": 0
      },
      "text/plain": [
       "Validation: |          | 0/? [00:00<?, ?it/s]"
      ]
     },
     "metadata": {},
     "output_type": "display_data"
    },
    {
     "data": {
      "application/vnd.jupyter.widget-view+json": {
       "model_id": "a83ed8a9cb4c4406a0b1679e9ca9c0b5",
       "version_major": 2,
       "version_minor": 0
      },
      "text/plain": [
       "Validation: |          | 0/? [00:00<?, ?it/s]"
      ]
     },
     "metadata": {},
     "output_type": "display_data"
    },
    {
     "data": {
      "application/vnd.jupyter.widget-view+json": {
       "model_id": "b45ffc9488604080a92b7be1e10d0f79",
       "version_major": 2,
       "version_minor": 0
      },
      "text/plain": [
       "Validation: |          | 0/? [00:00<?, ?it/s]"
      ]
     },
     "metadata": {},
     "output_type": "display_data"
    },
    {
     "data": {
      "application/vnd.jupyter.widget-view+json": {
       "model_id": "eba3301874aa464c88932dfda97b5db4",
       "version_major": 2,
       "version_minor": 0
      },
      "text/plain": [
       "Validation: |          | 0/? [00:00<?, ?it/s]"
      ]
     },
     "metadata": {},
     "output_type": "display_data"
    },
    {
     "data": {
      "application/vnd.jupyter.widget-view+json": {
       "model_id": "8b19623b723d4f92b8569aa2355abf80",
       "version_major": 2,
       "version_minor": 0
      },
      "text/plain": [
       "Validation: |          | 0/? [00:00<?, ?it/s]"
      ]
     },
     "metadata": {},
     "output_type": "display_data"
    },
    {
     "name": "stderr",
     "output_type": "stream",
     "text": [
      "IOPub message rate exceeded.\n",
      "The Jupyter server will temporarily stop sending output\n",
      "to the client in order to avoid crashing it.\n",
      "To change this limit, set the config variable\n",
      "`--ServerApp.iopub_msg_rate_limit`.\n",
      "\n",
      "Current values:\n",
      "ServerApp.iopub_msg_rate_limit=1000.0 (msgs/sec)\n",
      "ServerApp.rate_limit_window=3.0 (secs)\n",
      "\n"
     ]
    },
    {
     "data": {
      "application/vnd.jupyter.widget-view+json": {
       "model_id": "882b225fea8045caaf2d535fb556f68e",
       "version_major": 2,
       "version_minor": 0
      },
      "text/plain": [
       "Validation: |          | 0/? [00:00<?, ?it/s]"
      ]
     },
     "metadata": {},
     "output_type": "display_data"
    },
    {
     "data": {
      "application/vnd.jupyter.widget-view+json": {
       "model_id": "98f5d0660b914217a8170302a14285b8",
       "version_major": 2,
       "version_minor": 0
      },
      "text/plain": [
       "Validation: |          | 0/? [00:00<?, ?it/s]"
      ]
     },
     "metadata": {},
     "output_type": "display_data"
    },
    {
     "data": {
      "application/vnd.jupyter.widget-view+json": {
       "model_id": "a0b6a869d01446128067894d989314f5",
       "version_major": 2,
       "version_minor": 0
      },
      "text/plain": [
       "Validation: |          | 0/? [00:00<?, ?it/s]"
      ]
     },
     "metadata": {},
     "output_type": "display_data"
    },
    {
     "data": {
      "application/vnd.jupyter.widget-view+json": {
       "model_id": "7284f1cb798a45238a3034e69235d826",
       "version_major": 2,
       "version_minor": 0
      },
      "text/plain": [
       "Validation: |          | 0/? [00:00<?, ?it/s]"
      ]
     },
     "metadata": {},
     "output_type": "display_data"
    },
    {
     "data": {
      "application/vnd.jupyter.widget-view+json": {
       "model_id": "591e198e9b5246fbaddcc40e140ccade",
       "version_major": 2,
       "version_minor": 0
      },
      "text/plain": [
       "Validation: |          | 0/? [00:00<?, ?it/s]"
      ]
     },
     "metadata": {},
     "output_type": "display_data"
    },
    {
     "data": {
      "application/vnd.jupyter.widget-view+json": {
       "model_id": "2796441a412e4af8a216399e08cbd2b8",
       "version_major": 2,
       "version_minor": 0
      },
      "text/plain": [
       "Validation: |          | 0/? [00:00<?, ?it/s]"
      ]
     },
     "metadata": {},
     "output_type": "display_data"
    },
    {
     "data": {
      "application/vnd.jupyter.widget-view+json": {
       "model_id": "01bfa2b4e4314b8b8c599cede361720b",
       "version_major": 2,
       "version_minor": 0
      },
      "text/plain": [
       "Validation: |          | 0/? [00:00<?, ?it/s]"
      ]
     },
     "metadata": {},
     "output_type": "display_data"
    },
    {
     "data": {
      "application/vnd.jupyter.widget-view+json": {
       "model_id": "928a35c2d4724348b0cb9361fd488f5d",
       "version_major": 2,
       "version_minor": 0
      },
      "text/plain": [
       "Validation: |          | 0/? [00:00<?, ?it/s]"
      ]
     },
     "metadata": {},
     "output_type": "display_data"
    },
    {
     "data": {
      "application/vnd.jupyter.widget-view+json": {
       "model_id": "a3a4f3dc83d04861b2e85c58f68f562f",
       "version_major": 2,
       "version_minor": 0
      },
      "text/plain": [
       "Validation: |          | 0/? [00:00<?, ?it/s]"
      ]
     },
     "metadata": {},
     "output_type": "display_data"
    },
    {
     "data": {
      "application/vnd.jupyter.widget-view+json": {
       "model_id": "34a2a636ab9f46e282da84bc6f705282",
       "version_major": 2,
       "version_minor": 0
      },
      "text/plain": [
       "Validation: |          | 0/? [00:00<?, ?it/s]"
      ]
     },
     "metadata": {},
     "output_type": "display_data"
    },
    {
     "data": {
      "application/vnd.jupyter.widget-view+json": {
       "model_id": "30e5ccc308f641008628c5b6326a6dc7",
       "version_major": 2,
       "version_minor": 0
      },
      "text/plain": [
       "Validation: |          | 0/? [00:00<?, ?it/s]"
      ]
     },
     "metadata": {},
     "output_type": "display_data"
    },
    {
     "data": {
      "application/vnd.jupyter.widget-view+json": {
       "model_id": "f007b7f7609e4478a863afb339062918",
       "version_major": 2,
       "version_minor": 0
      },
      "text/plain": [
       "Validation: |          | 0/? [00:00<?, ?it/s]"
      ]
     },
     "metadata": {},
     "output_type": "display_data"
    },
    {
     "data": {
      "application/vnd.jupyter.widget-view+json": {
       "model_id": "17c5223bf12443cc8cd616a4a34a9d86",
       "version_major": 2,
       "version_minor": 0
      },
      "text/plain": [
       "Validation: |          | 0/? [00:00<?, ?it/s]"
      ]
     },
     "metadata": {},
     "output_type": "display_data"
    },
    {
     "data": {
      "application/vnd.jupyter.widget-view+json": {
       "model_id": "8d6dfa2b6e1b4acb9e47cdca51a4ea28",
       "version_major": 2,
       "version_minor": 0
      },
      "text/plain": [
       "Validation: |          | 0/? [00:00<?, ?it/s]"
      ]
     },
     "metadata": {},
     "output_type": "display_data"
    },
    {
     "data": {
      "application/vnd.jupyter.widget-view+json": {
       "model_id": "3ae4ff9635394ea48259bd82a304ee90",
       "version_major": 2,
       "version_minor": 0
      },
      "text/plain": [
       "Validation: |          | 0/? [00:00<?, ?it/s]"
      ]
     },
     "metadata": {},
     "output_type": "display_data"
    },
    {
     "data": {
      "application/vnd.jupyter.widget-view+json": {
       "model_id": "2bcfe1b167be4a49972f7c01d9a5206b",
       "version_major": 2,
       "version_minor": 0
      },
      "text/plain": [
       "Validation: |          | 0/? [00:00<?, ?it/s]"
      ]
     },
     "metadata": {},
     "output_type": "display_data"
    },
    {
     "data": {
      "application/vnd.jupyter.widget-view+json": {
       "model_id": "e7a852341568444bb0aae496fd010aae",
       "version_major": 2,
       "version_minor": 0
      },
      "text/plain": [
       "Validation: |          | 0/? [00:00<?, ?it/s]"
      ]
     },
     "metadata": {},
     "output_type": "display_data"
    },
    {
     "data": {
      "application/vnd.jupyter.widget-view+json": {
       "model_id": "7b9d65715f884319ab1acefb33a3de24",
       "version_major": 2,
       "version_minor": 0
      },
      "text/plain": [
       "Validation: |          | 0/? [00:00<?, ?it/s]"
      ]
     },
     "metadata": {},
     "output_type": "display_data"
    },
    {
     "data": {
      "application/vnd.jupyter.widget-view+json": {
       "model_id": "ab72ce524b6a41c0af9a5ba49865240d",
       "version_major": 2,
       "version_minor": 0
      },
      "text/plain": [
       "Validation: |          | 0/? [00:00<?, ?it/s]"
      ]
     },
     "metadata": {},
     "output_type": "display_data"
    },
    {
     "data": {
      "application/vnd.jupyter.widget-view+json": {
       "model_id": "7eac8fb10b2142ddb90cf087069b10e0",
       "version_major": 2,
       "version_minor": 0
      },
      "text/plain": [
       "Validation: |          | 0/? [00:00<?, ?it/s]"
      ]
     },
     "metadata": {},
     "output_type": "display_data"
    },
    {
     "data": {
      "application/vnd.jupyter.widget-view+json": {
       "model_id": "b97f8ef2b3304e4ab421de2eaf4074dd",
       "version_major": 2,
       "version_minor": 0
      },
      "text/plain": [
       "Validation: |          | 0/? [00:00<?, ?it/s]"
      ]
     },
     "metadata": {},
     "output_type": "display_data"
    },
    {
     "data": {
      "application/vnd.jupyter.widget-view+json": {
       "model_id": "35a2027a4a2840538d49c4c9383e15c2",
       "version_major": 2,
       "version_minor": 0
      },
      "text/plain": [
       "Validation: |          | 0/? [00:00<?, ?it/s]"
      ]
     },
     "metadata": {},
     "output_type": "display_data"
    },
    {
     "data": {
      "application/vnd.jupyter.widget-view+json": {
       "model_id": "4d9f8dfa54db4642b335eb7ddf1fcae8",
       "version_major": 2,
       "version_minor": 0
      },
      "text/plain": [
       "Validation: |          | 0/? [00:00<?, ?it/s]"
      ]
     },
     "metadata": {},
     "output_type": "display_data"
    },
    {
     "data": {
      "application/vnd.jupyter.widget-view+json": {
       "model_id": "38592304f5054de59a306e2241aab761",
       "version_major": 2,
       "version_minor": 0
      },
      "text/plain": [
       "Validation: |          | 0/? [00:00<?, ?it/s]"
      ]
     },
     "metadata": {},
     "output_type": "display_data"
    },
    {
     "data": {
      "application/vnd.jupyter.widget-view+json": {
       "model_id": "dae8192fef12421e95d86ed25d1ff618",
       "version_major": 2,
       "version_minor": 0
      },
      "text/plain": [
       "Validation: |          | 0/? [00:00<?, ?it/s]"
      ]
     },
     "metadata": {},
     "output_type": "display_data"
    },
    {
     "data": {
      "application/vnd.jupyter.widget-view+json": {
       "model_id": "9496599863cb4ea68a44978ee5faac00",
       "version_major": 2,
       "version_minor": 0
      },
      "text/plain": [
       "Validation: |          | 0/? [00:00<?, ?it/s]"
      ]
     },
     "metadata": {},
     "output_type": "display_data"
    },
    {
     "data": {
      "application/vnd.jupyter.widget-view+json": {
       "model_id": "85d5736d5b624106bd0ad228a2243756",
       "version_major": 2,
       "version_minor": 0
      },
      "text/plain": [
       "Validation: |          | 0/? [00:00<?, ?it/s]"
      ]
     },
     "metadata": {},
     "output_type": "display_data"
    },
    {
     "data": {
      "application/vnd.jupyter.widget-view+json": {
       "model_id": "a6351c977347454f87b325bbba9387e9",
       "version_major": 2,
       "version_minor": 0
      },
      "text/plain": [
       "Validation: |          | 0/? [00:00<?, ?it/s]"
      ]
     },
     "metadata": {},
     "output_type": "display_data"
    },
    {
     "data": {
      "application/vnd.jupyter.widget-view+json": {
       "model_id": "7518d0144b8f4bdeb67955f01a919ef6",
       "version_major": 2,
       "version_minor": 0
      },
      "text/plain": [
       "Validation: |          | 0/? [00:00<?, ?it/s]"
      ]
     },
     "metadata": {},
     "output_type": "display_data"
    },
    {
     "data": {
      "application/vnd.jupyter.widget-view+json": {
       "model_id": "ba218027f9a841e399c442d0b0ba5a88",
       "version_major": 2,
       "version_minor": 0
      },
      "text/plain": [
       "Validation: |          | 0/? [00:00<?, ?it/s]"
      ]
     },
     "metadata": {},
     "output_type": "display_data"
    },
    {
     "data": {
      "application/vnd.jupyter.widget-view+json": {
       "model_id": "7b07bf6ad3ea478dbf1990b94c7901f4",
       "version_major": 2,
       "version_minor": 0
      },
      "text/plain": [
       "Validation: |          | 0/? [00:00<?, ?it/s]"
      ]
     },
     "metadata": {},
     "output_type": "display_data"
    },
    {
     "data": {
      "application/vnd.jupyter.widget-view+json": {
       "model_id": "49fcfe878d0644a49465e71e14a50b4f",
       "version_major": 2,
       "version_minor": 0
      },
      "text/plain": [
       "Validation: |          | 0/? [00:00<?, ?it/s]"
      ]
     },
     "metadata": {},
     "output_type": "display_data"
    },
    {
     "data": {
      "application/vnd.jupyter.widget-view+json": {
       "model_id": "f5cb13f92f64468ba9fe32ff5b87c858",
       "version_major": 2,
       "version_minor": 0
      },
      "text/plain": [
       "Validation: |          | 0/? [00:00<?, ?it/s]"
      ]
     },
     "metadata": {},
     "output_type": "display_data"
    },
    {
     "data": {
      "application/vnd.jupyter.widget-view+json": {
       "model_id": "4c93dd77038c4f2c9e8ffe2bfa61470c",
       "version_major": 2,
       "version_minor": 0
      },
      "text/plain": [
       "Validation: |          | 0/? [00:00<?, ?it/s]"
      ]
     },
     "metadata": {},
     "output_type": "display_data"
    },
    {
     "data": {
      "application/vnd.jupyter.widget-view+json": {
       "model_id": "56b7d30f9f584860b629bf898b16fa71",
       "version_major": 2,
       "version_minor": 0
      },
      "text/plain": [
       "Validation: |          | 0/? [00:00<?, ?it/s]"
      ]
     },
     "metadata": {},
     "output_type": "display_data"
    },
    {
     "data": {
      "application/vnd.jupyter.widget-view+json": {
       "model_id": "d20e0a1065244dc68ae52372a65c61e8",
       "version_major": 2,
       "version_minor": 0
      },
      "text/plain": [
       "Validation: |          | 0/? [00:00<?, ?it/s]"
      ]
     },
     "metadata": {},
     "output_type": "display_data"
    },
    {
     "data": {
      "application/vnd.jupyter.widget-view+json": {
       "model_id": "5eb25633897240e1a37892653bdda85f",
       "version_major": 2,
       "version_minor": 0
      },
      "text/plain": [
       "Validation: |          | 0/? [00:00<?, ?it/s]"
      ]
     },
     "metadata": {},
     "output_type": "display_data"
    },
    {
     "data": {
      "application/vnd.jupyter.widget-view+json": {
       "model_id": "51bbb556933545a7ad015d6be464a7b1",
       "version_major": 2,
       "version_minor": 0
      },
      "text/plain": [
       "Validation: |          | 0/? [00:00<?, ?it/s]"
      ]
     },
     "metadata": {},
     "output_type": "display_data"
    },
    {
     "data": {
      "application/vnd.jupyter.widget-view+json": {
       "model_id": "1a83874e1cb54028ba5e785915a65ca1",
       "version_major": 2,
       "version_minor": 0
      },
      "text/plain": [
       "Validation: |          | 0/? [00:00<?, ?it/s]"
      ]
     },
     "metadata": {},
     "output_type": "display_data"
    },
    {
     "data": {
      "application/vnd.jupyter.widget-view+json": {
       "model_id": "ca0f827e9fe8414fa0b942dd738f76e6",
       "version_major": 2,
       "version_minor": 0
      },
      "text/plain": [
       "Validation: |          | 0/? [00:00<?, ?it/s]"
      ]
     },
     "metadata": {},
     "output_type": "display_data"
    },
    {
     "data": {
      "application/vnd.jupyter.widget-view+json": {
       "model_id": "8aa8b018b5ba416fb46fcdda94e135a2",
       "version_major": 2,
       "version_minor": 0
      },
      "text/plain": [
       "Validation: |          | 0/? [00:00<?, ?it/s]"
      ]
     },
     "metadata": {},
     "output_type": "display_data"
    },
    {
     "data": {
      "application/vnd.jupyter.widget-view+json": {
       "model_id": "bfac103d631646a49b02c02cce517ab4",
       "version_major": 2,
       "version_minor": 0
      },
      "text/plain": [
       "Validation: |          | 0/? [00:00<?, ?it/s]"
      ]
     },
     "metadata": {},
     "output_type": "display_data"
    },
    {
     "data": {
      "application/vnd.jupyter.widget-view+json": {
       "model_id": "394e1bb8ec114abf91928d26b3db927b",
       "version_major": 2,
       "version_minor": 0
      },
      "text/plain": [
       "Validation: |          | 0/? [00:00<?, ?it/s]"
      ]
     },
     "metadata": {},
     "output_type": "display_data"
    },
    {
     "data": {
      "application/vnd.jupyter.widget-view+json": {
       "model_id": "b3689167bba94616a4f31347accd0af4",
       "version_major": 2,
       "version_minor": 0
      },
      "text/plain": [
       "Validation: |          | 0/? [00:00<?, ?it/s]"
      ]
     },
     "metadata": {},
     "output_type": "display_data"
    },
    {
     "data": {
      "application/vnd.jupyter.widget-view+json": {
       "model_id": "c2734b368d8f473893248ce699c511fa",
       "version_major": 2,
       "version_minor": 0
      },
      "text/plain": [
       "Validation: |          | 0/? [00:00<?, ?it/s]"
      ]
     },
     "metadata": {},
     "output_type": "display_data"
    },
    {
     "data": {
      "application/vnd.jupyter.widget-view+json": {
       "model_id": "2c1341ef96944d4ab288630a2ba74765",
       "version_major": 2,
       "version_minor": 0
      },
      "text/plain": [
       "Validation: |          | 0/? [00:00<?, ?it/s]"
      ]
     },
     "metadata": {},
     "output_type": "display_data"
    },
    {
     "data": {
      "application/vnd.jupyter.widget-view+json": {
       "model_id": "43ca36b8f6a84b259cd643f562d8f9cb",
       "version_major": 2,
       "version_minor": 0
      },
      "text/plain": [
       "Validation: |          | 0/? [00:00<?, ?it/s]"
      ]
     },
     "metadata": {},
     "output_type": "display_data"
    },
    {
     "data": {
      "application/vnd.jupyter.widget-view+json": {
       "model_id": "c75caf59641e4a57b4939e65c7051857",
       "version_major": 2,
       "version_minor": 0
      },
      "text/plain": [
       "Validation: |          | 0/? [00:00<?, ?it/s]"
      ]
     },
     "metadata": {},
     "output_type": "display_data"
    },
    {
     "data": {
      "application/vnd.jupyter.widget-view+json": {
       "model_id": "ebb96aab3d7a4753900f258c6947fef7",
       "version_major": 2,
       "version_minor": 0
      },
      "text/plain": [
       "Validation: |          | 0/? [00:00<?, ?it/s]"
      ]
     },
     "metadata": {},
     "output_type": "display_data"
    },
    {
     "data": {
      "application/vnd.jupyter.widget-view+json": {
       "model_id": "551cca8b02a041d58eebcaf28ebeda93",
       "version_major": 2,
       "version_minor": 0
      },
      "text/plain": [
       "Validation: |          | 0/? [00:00<?, ?it/s]"
      ]
     },
     "metadata": {},
     "output_type": "display_data"
    },
    {
     "data": {
      "application/vnd.jupyter.widget-view+json": {
       "model_id": "6d7f44ee92874877aef106aa0e6563b1",
       "version_major": 2,
       "version_minor": 0
      },
      "text/plain": [
       "Validation: |          | 0/? [00:00<?, ?it/s]"
      ]
     },
     "metadata": {},
     "output_type": "display_data"
    },
    {
     "data": {
      "application/vnd.jupyter.widget-view+json": {
       "model_id": "6dd73dead54c42c4872b90becfab97ab",
       "version_major": 2,
       "version_minor": 0
      },
      "text/plain": [
       "Validation: |          | 0/? [00:00<?, ?it/s]"
      ]
     },
     "metadata": {},
     "output_type": "display_data"
    },
    {
     "data": {
      "application/vnd.jupyter.widget-view+json": {
       "model_id": "53be6f76beb840a3aa5109fa36677aac",
       "version_major": 2,
       "version_minor": 0
      },
      "text/plain": [
       "Validation: |          | 0/? [00:00<?, ?it/s]"
      ]
     },
     "metadata": {},
     "output_type": "display_data"
    },
    {
     "data": {
      "application/vnd.jupyter.widget-view+json": {
       "model_id": "a31963541148421ca999619fd826636a",
       "version_major": 2,
       "version_minor": 0
      },
      "text/plain": [
       "Validation: |          | 0/? [00:00<?, ?it/s]"
      ]
     },
     "metadata": {},
     "output_type": "display_data"
    },
    {
     "data": {
      "application/vnd.jupyter.widget-view+json": {
       "model_id": "65afebd04914446099e28e5ef3ef9b4f",
       "version_major": 2,
       "version_minor": 0
      },
      "text/plain": [
       "Validation: |          | 0/? [00:00<?, ?it/s]"
      ]
     },
     "metadata": {},
     "output_type": "display_data"
    },
    {
     "data": {
      "application/vnd.jupyter.widget-view+json": {
       "model_id": "cd76f80015be4fbfab72e9885e3d9819",
       "version_major": 2,
       "version_minor": 0
      },
      "text/plain": [
       "Validation: |          | 0/? [00:00<?, ?it/s]"
      ]
     },
     "metadata": {},
     "output_type": "display_data"
    },
    {
     "data": {
      "application/vnd.jupyter.widget-view+json": {
       "model_id": "61bc13b5c53f4170b909aaf0547279d2",
       "version_major": 2,
       "version_minor": 0
      },
      "text/plain": [
       "Validation: |          | 0/? [00:00<?, ?it/s]"
      ]
     },
     "metadata": {},
     "output_type": "display_data"
    },
    {
     "data": {
      "application/vnd.jupyter.widget-view+json": {
       "model_id": "74cf7dc1564f483a953c06f334c59bcc",
       "version_major": 2,
       "version_minor": 0
      },
      "text/plain": [
       "Validation: |          | 0/? [00:00<?, ?it/s]"
      ]
     },
     "metadata": {},
     "output_type": "display_data"
    },
    {
     "data": {
      "application/vnd.jupyter.widget-view+json": {
       "model_id": "c58872b3a53a402e84448df97c4356c6",
       "version_major": 2,
       "version_minor": 0
      },
      "text/plain": [
       "Validation: |          | 0/? [00:00<?, ?it/s]"
      ]
     },
     "metadata": {},
     "output_type": "display_data"
    },
    {
     "data": {
      "application/vnd.jupyter.widget-view+json": {
       "model_id": "8bef1f6f8124409a8d5f92e7323f306a",
       "version_major": 2,
       "version_minor": 0
      },
      "text/plain": [
       "Validation: |          | 0/? [00:00<?, ?it/s]"
      ]
     },
     "metadata": {},
     "output_type": "display_data"
    },
    {
     "data": {
      "application/vnd.jupyter.widget-view+json": {
       "model_id": "b11bee9ba47c4a429fad35ba989f6766",
       "version_major": 2,
       "version_minor": 0
      },
      "text/plain": [
       "Validation: |          | 0/? [00:00<?, ?it/s]"
      ]
     },
     "metadata": {},
     "output_type": "display_data"
    },
    {
     "data": {
      "application/vnd.jupyter.widget-view+json": {
       "model_id": "e39a67fc20534031b63ba4a202e325d4",
       "version_major": 2,
       "version_minor": 0
      },
      "text/plain": [
       "Validation: |          | 0/? [00:00<?, ?it/s]"
      ]
     },
     "metadata": {},
     "output_type": "display_data"
    },
    {
     "data": {
      "application/vnd.jupyter.widget-view+json": {
       "model_id": "9479a774b3d84447b55f0e88eb4a6e48",
       "version_major": 2,
       "version_minor": 0
      },
      "text/plain": [
       "Validation: |          | 0/? [00:00<?, ?it/s]"
      ]
     },
     "metadata": {},
     "output_type": "display_data"
    },
    {
     "data": {
      "application/vnd.jupyter.widget-view+json": {
       "model_id": "70c39ae3011049289eaefe65fa8559e4",
       "version_major": 2,
       "version_minor": 0
      },
      "text/plain": [
       "Validation: |          | 0/? [00:00<?, ?it/s]"
      ]
     },
     "metadata": {},
     "output_type": "display_data"
    },
    {
     "data": {
      "application/vnd.jupyter.widget-view+json": {
       "model_id": "4e1cf86403a8410c809ed19f5d93611b",
       "version_major": 2,
       "version_minor": 0
      },
      "text/plain": [
       "Validation: |          | 0/? [00:00<?, ?it/s]"
      ]
     },
     "metadata": {},
     "output_type": "display_data"
    },
    {
     "data": {
      "application/vnd.jupyter.widget-view+json": {
       "model_id": "6f77b85a215c42fb848f13e845bd87c4",
       "version_major": 2,
       "version_minor": 0
      },
      "text/plain": [
       "Validation: |          | 0/? [00:00<?, ?it/s]"
      ]
     },
     "metadata": {},
     "output_type": "display_data"
    },
    {
     "data": {
      "application/vnd.jupyter.widget-view+json": {
       "model_id": "ff9d490ac582466290d62de210adc0e7",
       "version_major": 2,
       "version_minor": 0
      },
      "text/plain": [
       "Validation: |          | 0/? [00:00<?, ?it/s]"
      ]
     },
     "metadata": {},
     "output_type": "display_data"
    },
    {
     "data": {
      "application/vnd.jupyter.widget-view+json": {
       "model_id": "106f4236f02241a6977beceec8f95d8f",
       "version_major": 2,
       "version_minor": 0
      },
      "text/plain": [
       "Validation: |          | 0/? [00:00<?, ?it/s]"
      ]
     },
     "metadata": {},
     "output_type": "display_data"
    },
    {
     "data": {
      "application/vnd.jupyter.widget-view+json": {
       "model_id": "67c722d7a41e437faddc27dfcfdeab24",
       "version_major": 2,
       "version_minor": 0
      },
      "text/plain": [
       "Validation: |          | 0/? [00:00<?, ?it/s]"
      ]
     },
     "metadata": {},
     "output_type": "display_data"
    },
    {
     "data": {
      "application/vnd.jupyter.widget-view+json": {
       "model_id": "1b4e1c2f2c9c4070b0272e6a863d5aef",
       "version_major": 2,
       "version_minor": 0
      },
      "text/plain": [
       "Validation: |          | 0/? [00:00<?, ?it/s]"
      ]
     },
     "metadata": {},
     "output_type": "display_data"
    },
    {
     "data": {
      "application/vnd.jupyter.widget-view+json": {
       "model_id": "8ec073d747084e94b12c3614bf20ff37",
       "version_major": 2,
       "version_minor": 0
      },
      "text/plain": [
       "Validation: |          | 0/? [00:00<?, ?it/s]"
      ]
     },
     "metadata": {},
     "output_type": "display_data"
    },
    {
     "data": {
      "application/vnd.jupyter.widget-view+json": {
       "model_id": "b853300169164ad3b3206ea2e8dae1d4",
       "version_major": 2,
       "version_minor": 0
      },
      "text/plain": [
       "Validation: |          | 0/? [00:00<?, ?it/s]"
      ]
     },
     "metadata": {},
     "output_type": "display_data"
    },
    {
     "data": {
      "application/vnd.jupyter.widget-view+json": {
       "model_id": "d32a9bda19ee4a0fa5de25f33d26b4e1",
       "version_major": 2,
       "version_minor": 0
      },
      "text/plain": [
       "Validation: |          | 0/? [00:00<?, ?it/s]"
      ]
     },
     "metadata": {},
     "output_type": "display_data"
    },
    {
     "data": {
      "application/vnd.jupyter.widget-view+json": {
       "model_id": "4996bc470e4546a4a752edc3d4a148fa",
       "version_major": 2,
       "version_minor": 0
      },
      "text/plain": [
       "Validation: |          | 0/? [00:00<?, ?it/s]"
      ]
     },
     "metadata": {},
     "output_type": "display_data"
    },
    {
     "data": {
      "application/vnd.jupyter.widget-view+json": {
       "model_id": "f042a52b2bc545af86d79355c34a6f9f",
       "version_major": 2,
       "version_minor": 0
      },
      "text/plain": [
       "Validation: |          | 0/? [00:00<?, ?it/s]"
      ]
     },
     "metadata": {},
     "output_type": "display_data"
    },
    {
     "data": {
      "application/vnd.jupyter.widget-view+json": {
       "model_id": "494106ae7386429aa1f60bdc1bdac0a8",
       "version_major": 2,
       "version_minor": 0
      },
      "text/plain": [
       "Validation: |          | 0/? [00:00<?, ?it/s]"
      ]
     },
     "metadata": {},
     "output_type": "display_data"
    },
    {
     "data": {
      "application/vnd.jupyter.widget-view+json": {
       "model_id": "7fa1ade62b05459b9c882e7a9b407145",
       "version_major": 2,
       "version_minor": 0
      },
      "text/plain": [
       "Validation: |          | 0/? [00:00<?, ?it/s]"
      ]
     },
     "metadata": {},
     "output_type": "display_data"
    },
    {
     "data": {
      "application/vnd.jupyter.widget-view+json": {
       "model_id": "6b213fd70bc04b1d8d809764cca63182",
       "version_major": 2,
       "version_minor": 0
      },
      "text/plain": [
       "Validation: |          | 0/? [00:00<?, ?it/s]"
      ]
     },
     "metadata": {},
     "output_type": "display_data"
    },
    {
     "data": {
      "application/vnd.jupyter.widget-view+json": {
       "model_id": "80f8d5986c0e41f2ad828bf404ab05be",
       "version_major": 2,
       "version_minor": 0
      },
      "text/plain": [
       "Validation: |          | 0/? [00:00<?, ?it/s]"
      ]
     },
     "metadata": {},
     "output_type": "display_data"
    },
    {
     "data": {
      "application/vnd.jupyter.widget-view+json": {
       "model_id": "328325be516a44de888ec8871a1fae46",
       "version_major": 2,
       "version_minor": 0
      },
      "text/plain": [
       "Validation: |          | 0/? [00:00<?, ?it/s]"
      ]
     },
     "metadata": {},
     "output_type": "display_data"
    },
    {
     "data": {
      "application/vnd.jupyter.widget-view+json": {
       "model_id": "8c6c6c6ffe424788a00378dcd612503e",
       "version_major": 2,
       "version_minor": 0
      },
      "text/plain": [
       "Validation: |          | 0/? [00:00<?, ?it/s]"
      ]
     },
     "metadata": {},
     "output_type": "display_data"
    },
    {
     "data": {
      "application/vnd.jupyter.widget-view+json": {
       "model_id": "b2b398e06793485d9f9973d51a138d9c",
       "version_major": 2,
       "version_minor": 0
      },
      "text/plain": [
       "Validation: |          | 0/? [00:00<?, ?it/s]"
      ]
     },
     "metadata": {},
     "output_type": "display_data"
    },
    {
     "data": {
      "application/vnd.jupyter.widget-view+json": {
       "model_id": "586e5a8bcad542e0b72f4c7d3d97ac4d",
       "version_major": 2,
       "version_minor": 0
      },
      "text/plain": [
       "Validation: |          | 0/? [00:00<?, ?it/s]"
      ]
     },
     "metadata": {},
     "output_type": "display_data"
    },
    {
     "data": {
      "application/vnd.jupyter.widget-view+json": {
       "model_id": "72e5efafd4794507a3f3716757255858",
       "version_major": 2,
       "version_minor": 0
      },
      "text/plain": [
       "Validation: |          | 0/? [00:00<?, ?it/s]"
      ]
     },
     "metadata": {},
     "output_type": "display_data"
    },
    {
     "data": {
      "application/vnd.jupyter.widget-view+json": {
       "model_id": "7f92ae1d33454a7db26f1bb00b586b39",
       "version_major": 2,
       "version_minor": 0
      },
      "text/plain": [
       "Validation: |          | 0/? [00:00<?, ?it/s]"
      ]
     },
     "metadata": {},
     "output_type": "display_data"
    },
    {
     "data": {
      "application/vnd.jupyter.widget-view+json": {
       "model_id": "fb1c3e11dc394cab8762efde24ea97c6",
       "version_major": 2,
       "version_minor": 0
      },
      "text/plain": [
       "Validation: |          | 0/? [00:00<?, ?it/s]"
      ]
     },
     "metadata": {},
     "output_type": "display_data"
    },
    {
     "data": {
      "application/vnd.jupyter.widget-view+json": {
       "model_id": "e324f85dfada4632bd7f34da4e34c334",
       "version_major": 2,
       "version_minor": 0
      },
      "text/plain": [
       "Validation: |          | 0/? [00:00<?, ?it/s]"
      ]
     },
     "metadata": {},
     "output_type": "display_data"
    },
    {
     "data": {
      "application/vnd.jupyter.widget-view+json": {
       "model_id": "6e46393b922f4c209791c165005ed1f6",
       "version_major": 2,
       "version_minor": 0
      },
      "text/plain": [
       "Validation: |          | 0/? [00:00<?, ?it/s]"
      ]
     },
     "metadata": {},
     "output_type": "display_data"
    },
    {
     "data": {
      "application/vnd.jupyter.widget-view+json": {
       "model_id": "7b171170137c44aaad05c381f83ccb04",
       "version_major": 2,
       "version_minor": 0
      },
      "text/plain": [
       "Validation: |          | 0/? [00:00<?, ?it/s]"
      ]
     },
     "metadata": {},
     "output_type": "display_data"
    },
    {
     "data": {
      "application/vnd.jupyter.widget-view+json": {
       "model_id": "6bf75866ab3d46b7a7fa4fb03fc9fe9e",
       "version_major": 2,
       "version_minor": 0
      },
      "text/plain": [
       "Validation: |          | 0/? [00:00<?, ?it/s]"
      ]
     },
     "metadata": {},
     "output_type": "display_data"
    },
    {
     "data": {
      "application/vnd.jupyter.widget-view+json": {
       "model_id": "37cc15a249b44d56a44df2af00150a53",
       "version_major": 2,
       "version_minor": 0
      },
      "text/plain": [
       "Validation: |          | 0/? [00:00<?, ?it/s]"
      ]
     },
     "metadata": {},
     "output_type": "display_data"
    },
    {
     "data": {
      "application/vnd.jupyter.widget-view+json": {
       "model_id": "ea1268e5190c443398bf5e4c6f7d7b90",
       "version_major": 2,
       "version_minor": 0
      },
      "text/plain": [
       "Validation: |          | 0/? [00:00<?, ?it/s]"
      ]
     },
     "metadata": {},
     "output_type": "display_data"
    },
    {
     "data": {
      "application/vnd.jupyter.widget-view+json": {
       "model_id": "83fc44842b4049f78945f4316b12b13e",
       "version_major": 2,
       "version_minor": 0
      },
      "text/plain": [
       "Validation: |          | 0/? [00:00<?, ?it/s]"
      ]
     },
     "metadata": {},
     "output_type": "display_data"
    },
    {
     "data": {
      "application/vnd.jupyter.widget-view+json": {
       "model_id": "ae93cfbbdbd44efe8134684cfba9ce71",
       "version_major": 2,
       "version_minor": 0
      },
      "text/plain": [
       "Validation: |          | 0/? [00:00<?, ?it/s]"
      ]
     },
     "metadata": {},
     "output_type": "display_data"
    },
    {
     "data": {
      "application/vnd.jupyter.widget-view+json": {
       "model_id": "1f526bb40bad4d08ac6e8c92c21f2026",
       "version_major": 2,
       "version_minor": 0
      },
      "text/plain": [
       "Validation: |          | 0/? [00:00<?, ?it/s]"
      ]
     },
     "metadata": {},
     "output_type": "display_data"
    },
    {
     "data": {
      "application/vnd.jupyter.widget-view+json": {
       "model_id": "26784d9056ff499390c0e523b5f2aaa1",
       "version_major": 2,
       "version_minor": 0
      },
      "text/plain": [
       "Validation: |          | 0/? [00:00<?, ?it/s]"
      ]
     },
     "metadata": {},
     "output_type": "display_data"
    },
    {
     "data": {
      "application/vnd.jupyter.widget-view+json": {
       "model_id": "952460faa0f34d3993edf5ecfa5fbb9c",
       "version_major": 2,
       "version_minor": 0
      },
      "text/plain": [
       "Validation: |          | 0/? [00:00<?, ?it/s]"
      ]
     },
     "metadata": {},
     "output_type": "display_data"
    },
    {
     "data": {
      "application/vnd.jupyter.widget-view+json": {
       "model_id": "0602520d4e614405bf2b3bd9c0ff522c",
       "version_major": 2,
       "version_minor": 0
      },
      "text/plain": [
       "Validation: |          | 0/? [00:00<?, ?it/s]"
      ]
     },
     "metadata": {},
     "output_type": "display_data"
    },
    {
     "data": {
      "application/vnd.jupyter.widget-view+json": {
       "model_id": "27f4718d033c4151b592c0ad0ecc9e76",
       "version_major": 2,
       "version_minor": 0
      },
      "text/plain": [
       "Validation: |          | 0/? [00:00<?, ?it/s]"
      ]
     },
     "metadata": {},
     "output_type": "display_data"
    },
    {
     "data": {
      "application/vnd.jupyter.widget-view+json": {
       "model_id": "6faa992ccc2e43c28966ac321496533c",
       "version_major": 2,
       "version_minor": 0
      },
      "text/plain": [
       "Validation: |          | 0/? [00:00<?, ?it/s]"
      ]
     },
     "metadata": {},
     "output_type": "display_data"
    },
    {
     "name": "stderr",
     "output_type": "stream",
     "text": [
      "IOPub message rate exceeded.\n",
      "The Jupyter server will temporarily stop sending output\n",
      "to the client in order to avoid crashing it.\n",
      "To change this limit, set the config variable\n",
      "`--ServerApp.iopub_msg_rate_limit`.\n",
      "\n",
      "Current values:\n",
      "ServerApp.iopub_msg_rate_limit=1000.0 (msgs/sec)\n",
      "ServerApp.rate_limit_window=3.0 (secs)\n",
      "\n"
     ]
    }
   ],
   "source": [
    "module = GCN_module()\n",
    "\n",
    "trainer.fit(module, dataloader, dataloader)"
   ]
  },
  {
   "cell_type": "code",
   "execution_count": null,
   "id": "2b2695b1-50ad-4734-823b-b454f0fcf663",
   "metadata": {},
   "outputs": [],
   "source": []
  },
  {
   "cell_type": "code",
   "execution_count": null,
   "id": "f56abc7e-b6fb-4d31-be9d-0c11436a8c88",
   "metadata": {},
   "outputs": [],
   "source": []
  },
  {
   "cell_type": "code",
   "execution_count": null,
   "id": "2901f195-2182-48de-90b4-1623dc099078",
   "metadata": {},
   "outputs": [],
   "source": []
  },
  {
   "cell_type": "code",
   "execution_count": null,
   "id": "08f16e4e-e571-416b-a005-01ef36c5bfec",
   "metadata": {},
   "outputs": [],
   "source": []
  },
  {
   "cell_type": "code",
   "execution_count": null,
   "id": "3d836d5e-b5fe-4515-9d7f-b34bf14577aa",
   "metadata": {},
   "outputs": [],
   "source": []
  },
  {
   "cell_type": "code",
   "execution_count": null,
   "id": "888ed1dc-5351-42a2-a930-499f6c6524fa",
   "metadata": {},
   "outputs": [],
   "source": []
  },
  {
   "cell_type": "code",
   "execution_count": null,
   "id": "a5cbf60b-02e9-430a-a92a-fbe048bfd4d0",
   "metadata": {},
   "outputs": [],
   "source": []
  },
  {
   "cell_type": "code",
   "execution_count": null,
   "id": "a4a03723-e5b3-4454-af90-7ef6d3ead60d",
   "metadata": {},
   "outputs": [],
   "source": []
  },
  {
   "cell_type": "code",
   "execution_count": 38,
   "id": "b7e6910a-677d-4f80-9050-f37ac24f3f3e",
   "metadata": {},
   "outputs": [],
   "source": [
    "!rm -r runs"
   ]
  },
  {
   "cell_type": "code",
   "execution_count": 30,
   "id": "5e905182-5e0f-49f8-897a-e5ef6bd16ddd",
   "metadata": {
    "tags": []
   },
   "outputs": [],
   "source": [
    "writer = SummaryWriter()"
   ]
  },
  {
   "cell_type": "code",
   "execution_count": 31,
   "id": "45446790-efdc-4d5f-a8f7-2bb4dec53310",
   "metadata": {},
   "outputs": [
    {
     "name": "stdout",
     "output_type": "stream",
     "text": [
      "Loading cora dataset...\n"
     ]
    }
   ],
   "source": [
    "adj, features, labels, idx_train, idx_val, idx_test = load_data('pygcn/data/cora/')"
   ]
  },
  {
   "cell_type": "code",
   "execution_count": 32,
   "id": "725648ee-ef5a-456e-9d8b-9bb2d2aaa88d",
   "metadata": {
    "tags": []
   },
   "outputs": [],
   "source": [
    "hidden = 16\n",
    "dropout = 0.5\n",
    "lr = 0.01\n",
    "weight_decay = 5e-4\n",
    "device = \"cpu\"\n",
    "\n",
    "model = GCN(nfeat=features.shape[1],\n",
    "            nhid=hidden,\n",
    "            nclass=labels.max().item() + 1,\n",
    "            dropout=dropout)\n",
    "\n",
    "optimizer = optim.Adam(model.parameters(), lr=lr, weight_decay=weight_decay)\n",
    "\n",
    "model.to(device)\n",
    "features = features.to(device)\n",
    "adj = adj.to(device)\n",
    "labels = labels.to(device)\n",
    "idx_train = idx_train.to(device)\n",
    "idx_val = idx_val.to(device)\n",
    "idx_test = idx_test.to(device)\n"
   ]
  },
  {
   "cell_type": "code",
   "execution_count": 33,
   "id": "8b408014-0ef5-4b24-ace5-3f5529b7474e",
   "metadata": {
    "tags": []
   },
   "outputs": [],
   "source": [
    "def train(epoch):\n",
    "    t = time.time()\n",
    "    model.train()\n",
    "    optimizer.zero_grad()\n",
    "    output = model(features, adj)\n",
    "    loss_train = F.nll_loss(output[idx_train], labels[idx_train])\n",
    "    # log\n",
    "    # writer.add_scalar(\"Loss/train\", loss_train, epoch)\n",
    "    acc_train = accuracy(output[idx_train], labels[idx_train])\n",
    "    loss_train.backward()\n",
    "    optimizer.step()\n",
    "\n",
    "    # if not args.fastmode:\n",
    "    #     # Evaluate validation set performance separately,\n",
    "    #     # deactivates dropout during validation run.\n",
    "    #     model.eval()\n",
    "    #     output = model(features, adj)\n",
    "\n",
    "    loss_val = F.nll_loss(output[idx_val], labels[idx_val])\n",
    "    acc_val = accuracy(output[idx_val], labels[idx_val])\n",
    "    print('Epoch: {:04d}'.format(epoch+1),\n",
    "          'loss_train: {:.4f}'.format(loss_train.item()),\n",
    "          'acc_train: {:.4f}'.format(acc_train.item()),\n",
    "          'loss_val: {:.4f}'.format(loss_val.item()),\n",
    "          'acc_val: {:.4f}'.format(acc_val.item()),\n",
    "          'time: {:.4f}s'.format(time.time() - t))\n",
    "    \n",
    "    \n",
    "    \n",
    "    \n",
    "\n",
    "def test():\n",
    "    model.eval()\n",
    "    output = model(features, adj)\n",
    "    loss_test = F.nll_loss(output[idx_test], labels[idx_test])\n",
    "    acc_test = accuracy(output[idx_test], labels[idx_test])\n",
    "    print(\"Test set results:\",\n",
    "          \"loss= {:.4f}\".format(loss_test.item()),\n",
    "          \"accuracy= {:.4f}\".format(acc_test.item()))\n"
   ]
  },
  {
   "cell_type": "code",
   "execution_count": 34,
   "id": "5b364f52-6e9a-4821-b7c7-19635d989741",
   "metadata": {
    "tags": []
   },
   "outputs": [
    {
     "name": "stdout",
     "output_type": "stream",
     "text": [
      "Epoch: 0001 loss_train: 2.0034 acc_train: 0.1214 loss_val: 2.0204 acc_val: 0.1133 time: 0.0047s\n",
      "Epoch: 0002 loss_train: 1.9814 acc_train: 0.1214 loss_val: 2.0026 acc_val: 0.1133 time: 0.0029s\n",
      "Epoch: 0003 loss_train: 1.9625 acc_train: 0.1429 loss_val: 1.9839 acc_val: 0.1200 time: 0.0032s\n",
      "Epoch: 0004 loss_train: 1.9549 acc_train: 0.1857 loss_val: 1.9724 acc_val: 0.1333 time: 0.0030s\n",
      "Epoch: 0005 loss_train: 1.9371 acc_train: 0.2357 loss_val: 1.9581 acc_val: 0.1533 time: 0.0029s\n",
      "Epoch: 0006 loss_train: 1.9290 acc_train: 0.2357 loss_val: 1.9486 acc_val: 0.1667 time: 0.0031s\n",
      "Epoch: 0007 loss_train: 1.9130 acc_train: 0.2357 loss_val: 1.9350 acc_val: 0.1633 time: 0.0029s\n",
      "Epoch: 0008 loss_train: 1.9043 acc_train: 0.2286 loss_val: 1.9261 acc_val: 0.1633 time: 0.0030s\n",
      "Epoch: 0009 loss_train: 1.8993 acc_train: 0.2286 loss_val: 1.9165 acc_val: 0.1600 time: 0.0026s\n",
      "Epoch: 0010 loss_train: 1.8824 acc_train: 0.2286 loss_val: 1.9033 acc_val: 0.1700 time: 0.0027s\n",
      "Epoch: 0011 loss_train: 1.8801 acc_train: 0.2143 loss_val: 1.8964 acc_val: 0.1567 time: 0.0027s\n",
      "Epoch: 0012 loss_train: 1.8685 acc_train: 0.2357 loss_val: 1.8824 acc_val: 0.1967 time: 0.0026s\n",
      "Epoch: 0013 loss_train: 1.8600 acc_train: 0.2643 loss_val: 1.8828 acc_val: 0.1833 time: 0.0027s\n",
      "Epoch: 0014 loss_train: 1.8551 acc_train: 0.2500 loss_val: 1.8677 acc_val: 0.1900 time: 0.0026s\n",
      "Epoch: 0015 loss_train: 1.8347 acc_train: 0.3143 loss_val: 1.8556 acc_val: 0.2267 time: 0.0026s\n",
      "Epoch: 0016 loss_train: 1.8135 acc_train: 0.3429 loss_val: 1.8432 acc_val: 0.2833 time: 0.0026s\n",
      "Epoch: 0017 loss_train: 1.8011 acc_train: 0.4071 loss_val: 1.8337 acc_val: 0.3467 time: 0.0027s\n",
      "Epoch: 0018 loss_train: 1.8003 acc_train: 0.4214 loss_val: 1.8199 acc_val: 0.3600 time: 0.0025s\n",
      "Epoch: 0019 loss_train: 1.7902 acc_train: 0.3571 loss_val: 1.8096 acc_val: 0.3067 time: 0.0026s\n",
      "Epoch: 0020 loss_train: 1.7776 acc_train: 0.4071 loss_val: 1.7887 acc_val: 0.3467 time: 0.0027s\n",
      "Epoch: 0021 loss_train: 1.7859 acc_train: 0.3357 loss_val: 1.7973 acc_val: 0.3433 time: 0.0026s\n",
      "Epoch: 0022 loss_train: 1.7474 acc_train: 0.3786 loss_val: 1.7811 acc_val: 0.3400 time: 0.0025s\n",
      "Epoch: 0023 loss_train: 1.7344 acc_train: 0.3643 loss_val: 1.7540 acc_val: 0.3667 time: 0.0025s\n",
      "Epoch: 0024 loss_train: 1.7583 acc_train: 0.3214 loss_val: 1.7769 acc_val: 0.3400 time: 0.0024s\n",
      "Epoch: 0025 loss_train: 1.7193 acc_train: 0.3786 loss_val: 1.7413 acc_val: 0.3400 time: 0.0027s\n",
      "Epoch: 0026 loss_train: 1.7127 acc_train: 0.3357 loss_val: 1.7533 acc_val: 0.3267 time: 0.0025s\n",
      "Epoch: 0027 loss_train: 1.7121 acc_train: 0.3429 loss_val: 1.7245 acc_val: 0.3400 time: 0.0024s\n",
      "Epoch: 0028 loss_train: 1.6964 acc_train: 0.3214 loss_val: 1.7137 acc_val: 0.3567 time: 0.0024s\n",
      "Epoch: 0029 loss_train: 1.6462 acc_train: 0.3357 loss_val: 1.6965 acc_val: 0.3533 time: 0.0027s\n",
      "Epoch: 0030 loss_train: 1.6644 acc_train: 0.3571 loss_val: 1.7033 acc_val: 0.3600 time: 0.0023s\n",
      "Epoch: 0031 loss_train: 1.6793 acc_train: 0.3429 loss_val: 1.7114 acc_val: 0.3333 time: 0.0025s\n",
      "Epoch: 0032 loss_train: 1.6640 acc_train: 0.3500 loss_val: 1.6831 acc_val: 0.3533 time: 0.0026s\n",
      "Epoch: 0033 loss_train: 1.6309 acc_train: 0.3929 loss_val: 1.6728 acc_val: 0.3733 time: 0.0027s\n",
      "Epoch: 0034 loss_train: 1.6308 acc_train: 0.3500 loss_val: 1.6652 acc_val: 0.3600 time: 0.0025s\n",
      "Epoch: 0035 loss_train: 1.6048 acc_train: 0.3571 loss_val: 1.6517 acc_val: 0.3667 time: 0.0026s\n",
      "Epoch: 0036 loss_train: 1.6185 acc_train: 0.3429 loss_val: 1.6819 acc_val: 0.3867 time: 0.0027s\n",
      "Epoch: 0037 loss_train: 1.5906 acc_train: 0.3929 loss_val: 1.6627 acc_val: 0.3633 time: 0.0026s\n",
      "Epoch: 0038 loss_train: 1.5775 acc_train: 0.3857 loss_val: 1.6539 acc_val: 0.3567 time: 0.0025s\n",
      "Epoch: 0039 loss_train: 1.5823 acc_train: 0.3929 loss_val: 1.6466 acc_val: 0.3833 time: 0.0028s\n",
      "Epoch: 0040 loss_train: 1.5584 acc_train: 0.4286 loss_val: 1.6471 acc_val: 0.4133 time: 0.0027s\n",
      "Epoch: 0041 loss_train: 1.5957 acc_train: 0.4214 loss_val: 1.6390 acc_val: 0.3933 time: 0.0025s\n",
      "Epoch: 0042 loss_train: 1.5249 acc_train: 0.4143 loss_val: 1.6101 acc_val: 0.4233 time: 0.0025s\n",
      "Epoch: 0043 loss_train: 1.5082 acc_train: 0.4571 loss_val: 1.6081 acc_val: 0.4200 time: 0.0029s\n",
      "Epoch: 0044 loss_train: 1.5134 acc_train: 0.4857 loss_val: 1.5857 acc_val: 0.4300 time: 0.0026s\n",
      "Epoch: 0045 loss_train: 1.4845 acc_train: 0.5286 loss_val: 1.5600 acc_val: 0.5233 time: 0.0026s\n",
      "Epoch: 0046 loss_train: 1.4588 acc_train: 0.5286 loss_val: 1.5566 acc_val: 0.4867 time: 0.0025s\n",
      "Epoch: 0047 loss_train: 1.4535 acc_train: 0.5357 loss_val: 1.5706 acc_val: 0.4700 time: 0.0025s\n",
      "Epoch: 0048 loss_train: 1.4560 acc_train: 0.5429 loss_val: 1.5548 acc_val: 0.4667 time: 0.0025s\n",
      "Epoch: 0049 loss_train: 1.4220 acc_train: 0.5571 loss_val: 1.5499 acc_val: 0.4367 time: 0.0027s\n",
      "Epoch: 0050 loss_train: 1.4152 acc_train: 0.5500 loss_val: 1.5205 acc_val: 0.5200 time: 0.0025s\n",
      "Epoch: 0051 loss_train: 1.4217 acc_train: 0.5714 loss_val: 1.5309 acc_val: 0.5100 time: 0.0025s\n",
      "Epoch: 0052 loss_train: 1.3585 acc_train: 0.6071 loss_val: 1.4825 acc_val: 0.5600 time: 0.0025s\n",
      "Epoch: 0053 loss_train: 1.3266 acc_train: 0.6000 loss_val: 1.4703 acc_val: 0.5333 time: 0.0024s\n",
      "Epoch: 0054 loss_train: 1.3385 acc_train: 0.6357 loss_val: 1.4806 acc_val: 0.5500 time: 0.0027s\n",
      "Epoch: 0055 loss_train: 1.3323 acc_train: 0.6429 loss_val: 1.4763 acc_val: 0.5867 time: 0.0027s\n",
      "Epoch: 0056 loss_train: 1.2978 acc_train: 0.6286 loss_val: 1.4584 acc_val: 0.5367 time: 0.0026s\n",
      "Epoch: 0057 loss_train: 1.2657 acc_train: 0.6786 loss_val: 1.4156 acc_val: 0.5700 time: 0.0025s\n",
      "Epoch: 0058 loss_train: 1.2836 acc_train: 0.6714 loss_val: 1.4478 acc_val: 0.5767 time: 0.0027s\n",
      "Epoch: 0059 loss_train: 1.2404 acc_train: 0.6714 loss_val: 1.3900 acc_val: 0.5900 time: 0.0027s\n",
      "Epoch: 0060 loss_train: 1.2293 acc_train: 0.6857 loss_val: 1.4026 acc_val: 0.6133 time: 0.0026s\n",
      "Epoch: 0061 loss_train: 1.1901 acc_train: 0.6857 loss_val: 1.3864 acc_val: 0.5767 time: 0.0026s\n",
      "Epoch: 0062 loss_train: 1.1973 acc_train: 0.6857 loss_val: 1.3948 acc_val: 0.5733 time: 0.0025s\n",
      "Epoch: 0063 loss_train: 1.1722 acc_train: 0.6929 loss_val: 1.3711 acc_val: 0.5933 time: 0.0024s\n",
      "Epoch: 0064 loss_train: 1.1238 acc_train: 0.7071 loss_val: 1.3205 acc_val: 0.6100 time: 0.0026s\n",
      "Epoch: 0065 loss_train: 1.1403 acc_train: 0.6929 loss_val: 1.3270 acc_val: 0.5933 time: 0.0024s\n",
      "Epoch: 0066 loss_train: 1.1124 acc_train: 0.7643 loss_val: 1.3391 acc_val: 0.6167 time: 0.0024s\n",
      "Epoch: 0067 loss_train: 1.1219 acc_train: 0.7714 loss_val: 1.3125 acc_val: 0.6300 time: 0.0025s\n",
      "Epoch: 0068 loss_train: 1.1055 acc_train: 0.7357 loss_val: 1.3033 acc_val: 0.6067 time: 0.0024s\n",
      "Epoch: 0069 loss_train: 1.0349 acc_train: 0.7357 loss_val: 1.2878 acc_val: 0.6333 time: 0.0024s\n",
      "Epoch: 0070 loss_train: 1.0419 acc_train: 0.7643 loss_val: 1.2831 acc_val: 0.6333 time: 0.0025s\n",
      "Epoch: 0071 loss_train: 1.0349 acc_train: 0.7571 loss_val: 1.2589 acc_val: 0.6400 time: 0.0025s\n",
      "Epoch: 0072 loss_train: 1.0302 acc_train: 0.8214 loss_val: 1.2544 acc_val: 0.6500 time: 0.0025s\n",
      "Epoch: 0073 loss_train: 1.0243 acc_train: 0.7571 loss_val: 1.2476 acc_val: 0.7033 time: 0.0025s\n",
      "Epoch: 0074 loss_train: 1.0147 acc_train: 0.8071 loss_val: 1.2527 acc_val: 0.5933 time: 0.0027s\n",
      "Epoch: 0075 loss_train: 0.9595 acc_train: 0.8000 loss_val: 1.2128 acc_val: 0.6600 time: 0.0027s\n",
      "Epoch: 0076 loss_train: 0.9927 acc_train: 0.7571 loss_val: 1.2067 acc_val: 0.6600 time: 0.0025s\n",
      "Epoch: 0077 loss_train: 0.9453 acc_train: 0.8071 loss_val: 1.1600 acc_val: 0.6600 time: 0.0026s\n",
      "Epoch: 0078 loss_train: 0.9605 acc_train: 0.8000 loss_val: 1.1662 acc_val: 0.6767 time: 0.0028s\n",
      "Epoch: 0079 loss_train: 0.9595 acc_train: 0.8143 loss_val: 1.1954 acc_val: 0.6900 time: 0.0024s\n",
      "Epoch: 0080 loss_train: 0.9321 acc_train: 0.7929 loss_val: 1.1865 acc_val: 0.6700 time: 0.0027s\n",
      "Epoch: 0081 loss_train: 0.9136 acc_train: 0.8000 loss_val: 1.1543 acc_val: 0.6867 time: 0.0025s\n",
      "Epoch: 0082 loss_train: 0.8553 acc_train: 0.8143 loss_val: 1.1079 acc_val: 0.7033 time: 0.0028s\n",
      "Epoch: 0083 loss_train: 0.8659 acc_train: 0.8286 loss_val: 1.1257 acc_val: 0.7133 time: 0.0029s\n",
      "Epoch: 0084 loss_train: 0.9267 acc_train: 0.7714 loss_val: 1.1484 acc_val: 0.7100 time: 0.0034s\n",
      "Epoch: 0085 loss_train: 0.8339 acc_train: 0.8500 loss_val: 1.1281 acc_val: 0.6967 time: 0.0034s\n",
      "Epoch: 0086 loss_train: 0.8631 acc_train: 0.8357 loss_val: 1.1123 acc_val: 0.7133 time: 0.0027s\n",
      "Epoch: 0087 loss_train: 0.8771 acc_train: 0.8571 loss_val: 1.0931 acc_val: 0.7333 time: 0.0027s\n",
      "Epoch: 0088 loss_train: 0.7996 acc_train: 0.8357 loss_val: 1.0721 acc_val: 0.7167 time: 0.0032s\n",
      "Epoch: 0089 loss_train: 0.8232 acc_train: 0.8286 loss_val: 1.0801 acc_val: 0.7300 time: 0.0029s\n",
      "Epoch: 0090 loss_train: 0.7751 acc_train: 0.8786 loss_val: 1.0381 acc_val: 0.7467 time: 0.0028s\n",
      "Epoch: 0091 loss_train: 0.8101 acc_train: 0.8571 loss_val: 1.0387 acc_val: 0.7267 time: 0.0027s\n",
      "Epoch: 0092 loss_train: 0.8115 acc_train: 0.8714 loss_val: 1.0489 acc_val: 0.7367 time: 0.0027s\n",
      "Epoch: 0093 loss_train: 0.7682 acc_train: 0.8500 loss_val: 1.0776 acc_val: 0.7267 time: 0.0027s\n",
      "Epoch: 0094 loss_train: 0.7602 acc_train: 0.8500 loss_val: 1.0520 acc_val: 0.7267 time: 0.0025s\n",
      "Epoch: 0095 loss_train: 0.7841 acc_train: 0.8143 loss_val: 0.9673 acc_val: 0.7633 time: 0.0028s\n",
      "Epoch: 0096 loss_train: 0.7670 acc_train: 0.8500 loss_val: 1.0505 acc_val: 0.7233 time: 0.0026s\n",
      "Epoch: 0097 loss_train: 0.7295 acc_train: 0.8643 loss_val: 1.0035 acc_val: 0.7400 time: 0.0026s\n",
      "Epoch: 0098 loss_train: 0.7139 acc_train: 0.8929 loss_val: 1.0192 acc_val: 0.7133 time: 0.0027s\n",
      "Epoch: 0099 loss_train: 0.7654 acc_train: 0.8571 loss_val: 1.0529 acc_val: 0.7067 time: 0.0027s\n",
      "Epoch: 0100 loss_train: 0.7043 acc_train: 0.8714 loss_val: 0.9963 acc_val: 0.7567 time: 0.0027s\n",
      "Epoch: 0101 loss_train: 0.7187 acc_train: 0.8500 loss_val: 1.0361 acc_val: 0.7000 time: 0.0025s\n",
      "Epoch: 0102 loss_train: 0.7165 acc_train: 0.8857 loss_val: 1.0386 acc_val: 0.7233 time: 0.0025s\n",
      "Epoch: 0103 loss_train: 0.7297 acc_train: 0.8643 loss_val: 1.0280 acc_val: 0.7633 time: 0.0025s\n",
      "Epoch: 0104 loss_train: 0.6646 acc_train: 0.8857 loss_val: 0.9877 acc_val: 0.7400 time: 0.0028s\n",
      "Epoch: 0105 loss_train: 0.6965 acc_train: 0.8429 loss_val: 1.0111 acc_val: 0.7367 time: 0.0026s\n",
      "Epoch: 0106 loss_train: 0.6914 acc_train: 0.8643 loss_val: 0.9875 acc_val: 0.7367 time: 0.0026s\n",
      "Epoch: 0107 loss_train: 0.6366 acc_train: 0.8714 loss_val: 0.9630 acc_val: 0.7233 time: 0.0027s\n",
      "Epoch: 0108 loss_train: 0.7026 acc_train: 0.8286 loss_val: 0.9562 acc_val: 0.7500 time: 0.0028s\n",
      "Epoch: 0109 loss_train: 0.6623 acc_train: 0.8786 loss_val: 0.9937 acc_val: 0.7533 time: 0.0027s\n",
      "Epoch: 0110 loss_train: 0.6250 acc_train: 0.8786 loss_val: 0.9350 acc_val: 0.7533 time: 0.0027s\n",
      "Epoch: 0111 loss_train: 0.6261 acc_train: 0.8857 loss_val: 0.9310 acc_val: 0.7533 time: 0.0025s\n",
      "Epoch: 0112 loss_train: 0.6722 acc_train: 0.8714 loss_val: 0.9183 acc_val: 0.7733 time: 0.0023s\n",
      "Epoch: 0113 loss_train: 0.6305 acc_train: 0.8286 loss_val: 0.9687 acc_val: 0.7067 time: 0.0025s\n",
      "Epoch: 0114 loss_train: 0.6119 acc_train: 0.9071 loss_val: 0.9027 acc_val: 0.7667 time: 0.0027s\n",
      "Epoch: 0115 loss_train: 0.5770 acc_train: 0.9214 loss_val: 0.9240 acc_val: 0.7800 time: 0.0027s\n",
      "Epoch: 0116 loss_train: 0.5875 acc_train: 0.8786 loss_val: 0.9067 acc_val: 0.7567 time: 0.0025s\n",
      "Epoch: 0117 loss_train: 0.6241 acc_train: 0.8929 loss_val: 0.9048 acc_val: 0.7733 time: 0.0026s\n",
      "Epoch: 0118 loss_train: 0.6017 acc_train: 0.8786 loss_val: 0.9392 acc_val: 0.7500 time: 0.0026s\n",
      "Epoch: 0119 loss_train: 0.6188 acc_train: 0.8714 loss_val: 0.9322 acc_val: 0.7500 time: 0.0024s\n",
      "Epoch: 0120 loss_train: 0.6290 acc_train: 0.8857 loss_val: 0.8991 acc_val: 0.7667 time: 0.0025s\n",
      "Epoch: 0121 loss_train: 0.6118 acc_train: 0.9000 loss_val: 0.9456 acc_val: 0.7600 time: 0.0024s\n",
      "Epoch: 0122 loss_train: 0.5733 acc_train: 0.8929 loss_val: 0.8681 acc_val: 0.7733 time: 0.0026s\n",
      "Epoch: 0123 loss_train: 0.5893 acc_train: 0.8857 loss_val: 0.8986 acc_val: 0.7567 time: 0.0026s\n",
      "Epoch: 0124 loss_train: 0.5873 acc_train: 0.9214 loss_val: 0.8868 acc_val: 0.7633 time: 0.0025s\n",
      "Epoch: 0125 loss_train: 0.5568 acc_train: 0.8929 loss_val: 0.8957 acc_val: 0.7533 time: 0.0027s\n",
      "Epoch: 0126 loss_train: 0.5896 acc_train: 0.9071 loss_val: 0.8392 acc_val: 0.7900 time: 0.0026s\n",
      "Epoch: 0127 loss_train: 0.5540 acc_train: 0.9214 loss_val: 0.9224 acc_val: 0.7533 time: 0.0026s\n",
      "Epoch: 0128 loss_train: 0.5328 acc_train: 0.9357 loss_val: 0.8602 acc_val: 0.7733 time: 0.0025s\n",
      "Epoch: 0129 loss_train: 0.5500 acc_train: 0.9500 loss_val: 0.9170 acc_val: 0.7400 time: 0.0024s\n",
      "Epoch: 0130 loss_train: 0.5635 acc_train: 0.9214 loss_val: 0.8875 acc_val: 0.7700 time: 0.0027s\n",
      "Epoch: 0131 loss_train: 0.5126 acc_train: 0.9357 loss_val: 0.8987 acc_val: 0.7667 time: 0.0025s\n",
      "Epoch: 0132 loss_train: 0.5347 acc_train: 0.9143 loss_val: 0.8669 acc_val: 0.7567 time: 0.0026s\n",
      "Epoch: 0133 loss_train: 0.5507 acc_train: 0.8857 loss_val: 0.8243 acc_val: 0.7767 time: 0.0025s\n",
      "Epoch: 0134 loss_train: 0.5207 acc_train: 0.9214 loss_val: 0.8623 acc_val: 0.7567 time: 0.0025s\n",
      "Epoch: 0135 loss_train: 0.5024 acc_train: 0.9214 loss_val: 0.8641 acc_val: 0.7567 time: 0.0026s\n",
      "Epoch: 0136 loss_train: 0.5608 acc_train: 0.8643 loss_val: 0.8429 acc_val: 0.7900 time: 0.0025s\n",
      "Epoch: 0137 loss_train: 0.5417 acc_train: 0.8929 loss_val: 0.8424 acc_val: 0.7667 time: 0.0027s\n",
      "Epoch: 0138 loss_train: 0.4887 acc_train: 0.9500 loss_val: 0.7954 acc_val: 0.7900 time: 0.0027s\n",
      "Epoch: 0139 loss_train: 0.5117 acc_train: 0.9214 loss_val: 0.8667 acc_val: 0.7833 time: 0.0026s\n",
      "Epoch: 0140 loss_train: 0.4773 acc_train: 0.9357 loss_val: 0.8347 acc_val: 0.7700 time: 0.0025s\n",
      "Epoch: 0141 loss_train: 0.4918 acc_train: 0.9214 loss_val: 0.8130 acc_val: 0.7900 time: 0.0028s\n",
      "Epoch: 0142 loss_train: 0.5027 acc_train: 0.9357 loss_val: 0.8081 acc_val: 0.8000 time: 0.0025s\n",
      "Epoch: 0143 loss_train: 0.4964 acc_train: 0.9357 loss_val: 0.8600 acc_val: 0.7767 time: 0.0025s\n",
      "Epoch: 0144 loss_train: 0.4987 acc_train: 0.9000 loss_val: 0.8477 acc_val: 0.7700 time: 0.0025s\n",
      "Epoch: 0145 loss_train: 0.4710 acc_train: 0.9429 loss_val: 0.8021 acc_val: 0.7900 time: 0.0024s\n",
      "Epoch: 0146 loss_train: 0.4904 acc_train: 0.9143 loss_val: 0.8102 acc_val: 0.7700 time: 0.0024s\n",
      "Epoch: 0147 loss_train: 0.4323 acc_train: 0.9643 loss_val: 0.8156 acc_val: 0.7733 time: 0.0027s\n",
      "Epoch: 0148 loss_train: 0.4840 acc_train: 0.9000 loss_val: 0.8576 acc_val: 0.7767 time: 0.0025s\n",
      "Epoch: 0149 loss_train: 0.4579 acc_train: 0.9429 loss_val: 0.8410 acc_val: 0.7667 time: 0.0025s\n",
      "Epoch: 0150 loss_train: 0.4338 acc_train: 0.9143 loss_val: 0.8045 acc_val: 0.7700 time: 0.0025s\n",
      "Epoch: 0151 loss_train: 0.4568 acc_train: 0.9714 loss_val: 0.7834 acc_val: 0.7800 time: 0.0025s\n",
      "Epoch: 0152 loss_train: 0.4509 acc_train: 0.9357 loss_val: 0.8361 acc_val: 0.7600 time: 0.0025s\n",
      "Epoch: 0153 loss_train: 0.4559 acc_train: 0.9357 loss_val: 0.8265 acc_val: 0.7667 time: 0.0026s\n",
      "Epoch: 0154 loss_train: 0.4685 acc_train: 0.9214 loss_val: 0.7931 acc_val: 0.7733 time: 0.0026s\n",
      "Epoch: 0155 loss_train: 0.4451 acc_train: 0.9286 loss_val: 0.8257 acc_val: 0.7667 time: 0.0026s\n",
      "Epoch: 0156 loss_train: 0.4668 acc_train: 0.9143 loss_val: 0.8098 acc_val: 0.7833 time: 0.0025s\n",
      "Epoch: 0157 loss_train: 0.4296 acc_train: 0.9714 loss_val: 0.8164 acc_val: 0.7700 time: 0.0024s\n",
      "Epoch: 0158 loss_train: 0.4182 acc_train: 0.9500 loss_val: 0.7773 acc_val: 0.7633 time: 0.0026s\n",
      "Epoch: 0159 loss_train: 0.4155 acc_train: 0.9571 loss_val: 0.7814 acc_val: 0.7867 time: 0.0027s\n",
      "Epoch: 0160 loss_train: 0.4057 acc_train: 0.9500 loss_val: 0.8016 acc_val: 0.7767 time: 0.0028s\n",
      "Epoch: 0161 loss_train: 0.4350 acc_train: 0.9643 loss_val: 0.8444 acc_val: 0.7700 time: 0.0030s\n",
      "Epoch: 0162 loss_train: 0.4311 acc_train: 0.9429 loss_val: 0.7987 acc_val: 0.7567 time: 0.0029s\n",
      "Epoch: 0163 loss_train: 0.4616 acc_train: 0.9357 loss_val: 0.8310 acc_val: 0.7700 time: 0.0026s\n",
      "Epoch: 0164 loss_train: 0.4290 acc_train: 0.9429 loss_val: 0.7726 acc_val: 0.7933 time: 0.0026s\n",
      "Epoch: 0165 loss_train: 0.4235 acc_train: 0.9429 loss_val: 0.7645 acc_val: 0.7767 time: 0.0030s\n",
      "Epoch: 0166 loss_train: 0.4465 acc_train: 0.9214 loss_val: 0.7820 acc_val: 0.7933 time: 0.0027s\n",
      "Epoch: 0167 loss_train: 0.4308 acc_train: 0.9286 loss_val: 0.7901 acc_val: 0.7567 time: 0.0026s\n",
      "Epoch: 0168 loss_train: 0.4190 acc_train: 0.9500 loss_val: 0.7908 acc_val: 0.7900 time: 0.0025s\n",
      "Epoch: 0169 loss_train: 0.4169 acc_train: 0.9214 loss_val: 0.8020 acc_val: 0.7700 time: 0.0028s\n",
      "Epoch: 0170 loss_train: 0.4348 acc_train: 0.9357 loss_val: 0.8170 acc_val: 0.7833 time: 0.0028s\n",
      "Epoch: 0171 loss_train: 0.4366 acc_train: 0.9286 loss_val: 0.7881 acc_val: 0.7600 time: 0.0027s\n",
      "Epoch: 0172 loss_train: 0.3912 acc_train: 0.9500 loss_val: 0.8020 acc_val: 0.7833 time: 0.0026s\n",
      "Epoch: 0173 loss_train: 0.4349 acc_train: 0.9500 loss_val: 0.7570 acc_val: 0.7833 time: 0.0026s\n",
      "Epoch: 0174 loss_train: 0.3845 acc_train: 0.9500 loss_val: 0.8083 acc_val: 0.7533 time: 0.0026s\n",
      "Epoch: 0175 loss_train: 0.4283 acc_train: 0.9143 loss_val: 0.7835 acc_val: 0.7933 time: 0.0025s\n",
      "Epoch: 0176 loss_train: 0.4077 acc_train: 0.9071 loss_val: 0.7769 acc_val: 0.7767 time: 0.0025s\n",
      "Epoch: 0177 loss_train: 0.3842 acc_train: 0.9500 loss_val: 0.7237 acc_val: 0.7867 time: 0.0025s\n",
      "Epoch: 0178 loss_train: 0.4174 acc_train: 0.9214 loss_val: 0.7930 acc_val: 0.7733 time: 0.0024s\n",
      "Epoch: 0179 loss_train: 0.4197 acc_train: 0.9643 loss_val: 0.8036 acc_val: 0.7767 time: 0.0027s\n",
      "Epoch: 0180 loss_train: 0.4076 acc_train: 0.9500 loss_val: 0.7901 acc_val: 0.7533 time: 0.0026s\n",
      "Epoch: 0181 loss_train: 0.4119 acc_train: 0.9429 loss_val: 0.8058 acc_val: 0.7533 time: 0.0026s\n",
      "Epoch: 0182 loss_train: 0.3707 acc_train: 0.9500 loss_val: 0.7700 acc_val: 0.7600 time: 0.0026s\n",
      "Epoch: 0183 loss_train: 0.3677 acc_train: 0.9429 loss_val: 0.7759 acc_val: 0.7867 time: 0.0027s\n",
      "Epoch: 0184 loss_train: 0.4336 acc_train: 0.8929 loss_val: 0.7951 acc_val: 0.7767 time: 0.0026s\n",
      "Epoch: 0185 loss_train: 0.3616 acc_train: 0.9429 loss_val: 0.7879 acc_val: 0.7667 time: 0.0026s\n",
      "Epoch: 0186 loss_train: 0.4168 acc_train: 0.9214 loss_val: 0.7621 acc_val: 0.7667 time: 0.0024s\n",
      "Epoch: 0187 loss_train: 0.4027 acc_train: 0.9357 loss_val: 0.8115 acc_val: 0.7700 time: 0.0024s\n",
      "Epoch: 0188 loss_train: 0.3975 acc_train: 0.9286 loss_val: 0.8032 acc_val: 0.7933 time: 0.0025s\n",
      "Epoch: 0189 loss_train: 0.3842 acc_train: 0.9429 loss_val: 0.8117 acc_val: 0.7600 time: 0.0027s\n",
      "Epoch: 0190 loss_train: 0.3719 acc_train: 0.9571 loss_val: 0.8133 acc_val: 0.7500 time: 0.0026s\n",
      "Epoch: 0191 loss_train: 0.4021 acc_train: 0.9429 loss_val: 0.7810 acc_val: 0.8033 time: 0.0024s\n",
      "Epoch: 0192 loss_train: 0.3717 acc_train: 0.9571 loss_val: 0.7932 acc_val: 0.7833 time: 0.0025s\n",
      "Epoch: 0193 loss_train: 0.3693 acc_train: 0.9571 loss_val: 0.7741 acc_val: 0.7933 time: 0.0025s\n",
      "Epoch: 0194 loss_train: 0.3828 acc_train: 0.9286 loss_val: 0.7385 acc_val: 0.7867 time: 0.0025s\n",
      "Epoch: 0195 loss_train: 0.3751 acc_train: 0.9286 loss_val: 0.7653 acc_val: 0.7733 time: 0.0027s\n",
      "Epoch: 0196 loss_train: 0.3538 acc_train: 0.9714 loss_val: 0.7990 acc_val: 0.7600 time: 0.0025s\n",
      "Epoch: 0197 loss_train: 0.3668 acc_train: 0.9643 loss_val: 0.7854 acc_val: 0.7633 time: 0.0024s\n",
      "Epoch: 0198 loss_train: 0.3785 acc_train: 0.9500 loss_val: 0.7851 acc_val: 0.7700 time: 0.0027s\n",
      "Epoch: 0199 loss_train: 0.4004 acc_train: 0.9429 loss_val: 0.7819 acc_val: 0.7300 time: 0.0025s\n",
      "Epoch: 0200 loss_train: 0.4100 acc_train: 0.9357 loss_val: 0.8215 acc_val: 0.7800 time: 0.0025s\n",
      "Optimization Finished!\n",
      "Total time elapsed: 0.5289s\n"
     ]
    }
   ],
   "source": [
    "epochs = 200\n",
    "\n",
    "t_total = time.time()\n",
    "for epoch in range(epochs):\n",
    "    train(epoch)\n",
    "    \n",
    "writer.flush()\n",
    "\n",
    "\n",
    "print(\"Optimization Finished!\")\n",
    "print(\"Total time elapsed: {:.4f}s\".format(time.time() - t_total))"
   ]
  },
  {
   "cell_type": "code",
   "execution_count": 35,
   "id": "a5b3e335-e3c8-4a6c-ab3e-332aa2abbde7",
   "metadata": {
    "tags": []
   },
   "outputs": [],
   "source": [
    "writer.close()"
   ]
  },
  {
   "cell_type": "code",
   "execution_count": 36,
   "id": "b32a969e-0981-4ae5-b29c-75ceadcaab92",
   "metadata": {
    "tags": []
   },
   "outputs": [],
   "source": [
    "# tensorboard --logdir=runs"
   ]
  },
  {
   "cell_type": "code",
   "execution_count": 37,
   "id": "63cc4139-767a-4435-9a65-fd50019190a4",
   "metadata": {
    "tags": []
   },
   "outputs": [
    {
     "name": "stdout",
     "output_type": "stream",
     "text": [
      "Test set results: loss= 0.7108 accuracy= 0.8290\n"
     ]
    }
   ],
   "source": [
    "# Testing\n",
    "test()"
   ]
  },
  {
   "cell_type": "code",
   "execution_count": null,
   "id": "8ed668cf-0a04-4f6c-a7e8-ec415f229a29",
   "metadata": {},
   "outputs": [],
   "source": []
  },
  {
   "cell_type": "code",
   "execution_count": null,
   "id": "81cdb4a3-91f5-46f7-997c-6e7990cc4e60",
   "metadata": {},
   "outputs": [],
   "source": []
  }
 ],
 "metadata": {
  "kernelspec": {
   "display_name": "Python 3 (ipykernel)",
   "language": "python",
   "name": "python3"
  },
  "language_info": {
   "codemirror_mode": {
    "name": "ipython",
    "version": 3
   },
   "file_extension": ".py",
   "mimetype": "text/x-python",
   "name": "python",
   "nbconvert_exporter": "python",
   "pygments_lexer": "ipython3",
   "version": "3.11.5"
  }
 },
 "nbformat": 4,
 "nbformat_minor": 5
}
